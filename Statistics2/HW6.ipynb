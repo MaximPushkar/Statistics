{
 "cells": [
  {
   "cell_type": "markdown",
   "id": "9dabf313-e176-45d6-8087-4814c002cc2a",
   "metadata": {
    "tags": []
   },
   "source": [
    "### Setup"
   ]
  },
  {
   "cell_type": "code",
   "execution_count": 7,
   "id": "047b430e-ee86-4d0b-ba3a-268e24c84390",
   "metadata": {},
   "outputs": [],
   "source": [
    "import numpy as np\n",
    "import matplotlib.pyplot as plt\n",
    "import pandas as pd\n",
    "import scipy as sci"
   ]
  },
  {
   "cell_type": "markdown",
   "id": "ea12177d-0a61-4765-8b53-216496a03818",
   "metadata": {},
   "source": [
    "### Ex 1) (Rencher 12.8)"
   ]
  },
  {
   "cell_type": "markdown",
   "id": "51b551b2-f251-4f20-86dd-9920ee42d220",
   "metadata": {},
   "source": [
    "Carry out a principal component analysis on all six variables of the glucose\n",
    "data of Table 3.8. Use both S and R. Which do you think is more appropriate here? Show the percent of variance explained. Based on the average eigenvalue or a scree plot, decide how many components to retain. Can you interpret the components of either S or R?"
   ]
  },
  {
   "cell_type": "code",
   "execution_count": 8,
   "id": "10719d24-15e4-47c1-b0b9-52dec6b28a5e",
   "metadata": {},
   "outputs": [
    {
     "data": {
      "text/html": [
       "<div>\n",
       "<style scoped>\n",
       "    .dataframe tbody tr th:only-of-type {\n",
       "        vertical-align: middle;\n",
       "    }\n",
       "\n",
       "    .dataframe tbody tr th {\n",
       "        vertical-align: top;\n",
       "    }\n",
       "\n",
       "    .dataframe thead th {\n",
       "        text-align: right;\n",
       "    }\n",
       "</style>\n",
       "<table border=\"1\" class=\"dataframe\">\n",
       "  <thead>\n",
       "    <tr style=\"text-align: right;\">\n",
       "      <th></th>\n",
       "      <th>y1</th>\n",
       "      <th>y2</th>\n",
       "      <th>y3</th>\n",
       "      <th>y4</th>\n",
       "      <th>y5</th>\n",
       "      <th>y6</th>\n",
       "    </tr>\n",
       "  </thead>\n",
       "  <tbody>\n",
       "    <tr>\n",
       "      <th>0</th>\n",
       "      <td>60</td>\n",
       "      <td>69</td>\n",
       "      <td>62</td>\n",
       "      <td>97</td>\n",
       "      <td>69</td>\n",
       "      <td>98</td>\n",
       "    </tr>\n",
       "    <tr>\n",
       "      <th>1</th>\n",
       "      <td>56</td>\n",
       "      <td>53</td>\n",
       "      <td>84</td>\n",
       "      <td>103</td>\n",
       "      <td>78</td>\n",
       "      <td>107</td>\n",
       "    </tr>\n",
       "    <tr>\n",
       "      <th>2</th>\n",
       "      <td>80</td>\n",
       "      <td>69</td>\n",
       "      <td>76</td>\n",
       "      <td>66</td>\n",
       "      <td>99</td>\n",
       "      <td>130</td>\n",
       "    </tr>\n",
       "    <tr>\n",
       "      <th>3</th>\n",
       "      <td>55</td>\n",
       "      <td>80</td>\n",
       "      <td>90</td>\n",
       "      <td>80</td>\n",
       "      <td>85</td>\n",
       "      <td>114</td>\n",
       "    </tr>\n",
       "    <tr>\n",
       "      <th>4</th>\n",
       "      <td>62</td>\n",
       "      <td>75</td>\n",
       "      <td>68</td>\n",
       "      <td>116</td>\n",
       "      <td>130</td>\n",
       "      <td>91</td>\n",
       "    </tr>\n",
       "    <tr>\n",
       "      <th>5</th>\n",
       "      <td>74</td>\n",
       "      <td>64</td>\n",
       "      <td>70</td>\n",
       "      <td>109</td>\n",
       "      <td>101</td>\n",
       "      <td>103</td>\n",
       "    </tr>\n",
       "    <tr>\n",
       "      <th>6</th>\n",
       "      <td>64</td>\n",
       "      <td>71</td>\n",
       "      <td>66</td>\n",
       "      <td>77</td>\n",
       "      <td>102</td>\n",
       "      <td>130</td>\n",
       "    </tr>\n",
       "    <tr>\n",
       "      <th>7</th>\n",
       "      <td>73</td>\n",
       "      <td>70</td>\n",
       "      <td>64</td>\n",
       "      <td>115</td>\n",
       "      <td>110</td>\n",
       "      <td>109</td>\n",
       "    </tr>\n",
       "    <tr>\n",
       "      <th>8</th>\n",
       "      <td>68</td>\n",
       "      <td>67</td>\n",
       "      <td>75</td>\n",
       "      <td>76</td>\n",
       "      <td>85</td>\n",
       "      <td>119</td>\n",
       "    </tr>\n",
       "    <tr>\n",
       "      <th>9</th>\n",
       "      <td>69</td>\n",
       "      <td>82</td>\n",
       "      <td>74</td>\n",
       "      <td>72</td>\n",
       "      <td>133</td>\n",
       "      <td>127</td>\n",
       "    </tr>\n",
       "    <tr>\n",
       "      <th>10</th>\n",
       "      <td>60</td>\n",
       "      <td>67</td>\n",
       "      <td>61</td>\n",
       "      <td>130</td>\n",
       "      <td>134</td>\n",
       "      <td>121</td>\n",
       "    </tr>\n",
       "    <tr>\n",
       "      <th>11</th>\n",
       "      <td>70</td>\n",
       "      <td>74</td>\n",
       "      <td>78</td>\n",
       "      <td>150</td>\n",
       "      <td>158</td>\n",
       "      <td>100</td>\n",
       "    </tr>\n",
       "    <tr>\n",
       "      <th>12</th>\n",
       "      <td>66</td>\n",
       "      <td>74</td>\n",
       "      <td>78</td>\n",
       "      <td>150</td>\n",
       "      <td>131</td>\n",
       "      <td>142</td>\n",
       "    </tr>\n",
       "    <tr>\n",
       "      <th>13</th>\n",
       "      <td>83</td>\n",
       "      <td>70</td>\n",
       "      <td>74</td>\n",
       "      <td>99</td>\n",
       "      <td>98</td>\n",
       "      <td>105</td>\n",
       "    </tr>\n",
       "    <tr>\n",
       "      <th>14</th>\n",
       "      <td>68</td>\n",
       "      <td>66</td>\n",
       "      <td>90</td>\n",
       "      <td>119</td>\n",
       "      <td>85</td>\n",
       "      <td>109</td>\n",
       "    </tr>\n",
       "    <tr>\n",
       "      <th>15</th>\n",
       "      <td>78</td>\n",
       "      <td>63</td>\n",
       "      <td>75</td>\n",
       "      <td>164</td>\n",
       "      <td>98</td>\n",
       "      <td>138</td>\n",
       "    </tr>\n",
       "    <tr>\n",
       "      <th>16</th>\n",
       "      <td>103</td>\n",
       "      <td>77</td>\n",
       "      <td>77</td>\n",
       "      <td>160</td>\n",
       "      <td>117</td>\n",
       "      <td>121</td>\n",
       "    </tr>\n",
       "    <tr>\n",
       "      <th>17</th>\n",
       "      <td>77</td>\n",
       "      <td>68</td>\n",
       "      <td>74</td>\n",
       "      <td>144</td>\n",
       "      <td>71</td>\n",
       "      <td>153</td>\n",
       "    </tr>\n",
       "    <tr>\n",
       "      <th>18</th>\n",
       "      <td>66</td>\n",
       "      <td>77</td>\n",
       "      <td>68</td>\n",
       "      <td>77</td>\n",
       "      <td>82</td>\n",
       "      <td>89</td>\n",
       "    </tr>\n",
       "    <tr>\n",
       "      <th>19</th>\n",
       "      <td>70</td>\n",
       "      <td>70</td>\n",
       "      <td>72</td>\n",
       "      <td>114</td>\n",
       "      <td>93</td>\n",
       "      <td>122</td>\n",
       "    </tr>\n",
       "    <tr>\n",
       "      <th>20</th>\n",
       "      <td>75</td>\n",
       "      <td>65</td>\n",
       "      <td>71</td>\n",
       "      <td>77</td>\n",
       "      <td>70</td>\n",
       "      <td>109</td>\n",
       "    </tr>\n",
       "    <tr>\n",
       "      <th>21</th>\n",
       "      <td>91</td>\n",
       "      <td>74</td>\n",
       "      <td>93</td>\n",
       "      <td>118</td>\n",
       "      <td>115</td>\n",
       "      <td>150</td>\n",
       "    </tr>\n",
       "    <tr>\n",
       "      <th>22</th>\n",
       "      <td>66</td>\n",
       "      <td>75</td>\n",
       "      <td>73</td>\n",
       "      <td>170</td>\n",
       "      <td>147</td>\n",
       "      <td>121</td>\n",
       "    </tr>\n",
       "    <tr>\n",
       "      <th>23</th>\n",
       "      <td>75</td>\n",
       "      <td>82</td>\n",
       "      <td>76</td>\n",
       "      <td>153</td>\n",
       "      <td>132</td>\n",
       "      <td>115</td>\n",
       "    </tr>\n",
       "    <tr>\n",
       "      <th>24</th>\n",
       "      <td>74</td>\n",
       "      <td>71</td>\n",
       "      <td>66</td>\n",
       "      <td>143</td>\n",
       "      <td>105</td>\n",
       "      <td>100</td>\n",
       "    </tr>\n",
       "    <tr>\n",
       "      <th>25</th>\n",
       "      <td>76</td>\n",
       "      <td>70</td>\n",
       "      <td>64</td>\n",
       "      <td>114</td>\n",
       "      <td>113</td>\n",
       "      <td>129</td>\n",
       "    </tr>\n",
       "    <tr>\n",
       "      <th>26</th>\n",
       "      <td>74</td>\n",
       "      <td>90</td>\n",
       "      <td>86</td>\n",
       "      <td>73</td>\n",
       "      <td>106</td>\n",
       "      <td>116</td>\n",
       "    </tr>\n",
       "    <tr>\n",
       "      <th>27</th>\n",
       "      <td>74</td>\n",
       "      <td>77</td>\n",
       "      <td>80</td>\n",
       "      <td>116</td>\n",
       "      <td>81</td>\n",
       "      <td>77</td>\n",
       "    </tr>\n",
       "    <tr>\n",
       "      <th>28</th>\n",
       "      <td>67</td>\n",
       "      <td>71</td>\n",
       "      <td>69</td>\n",
       "      <td>63</td>\n",
       "      <td>87</td>\n",
       "      <td>70</td>\n",
       "    </tr>\n",
       "    <tr>\n",
       "      <th>29</th>\n",
       "      <td>78</td>\n",
       "      <td>75</td>\n",
       "      <td>80</td>\n",
       "      <td>105</td>\n",
       "      <td>132</td>\n",
       "      <td>80</td>\n",
       "    </tr>\n",
       "    <tr>\n",
       "      <th>30</th>\n",
       "      <td>64</td>\n",
       "      <td>66</td>\n",
       "      <td>71</td>\n",
       "      <td>83</td>\n",
       "      <td>94</td>\n",
       "      <td>133</td>\n",
       "    </tr>\n",
       "    <tr>\n",
       "      <th>31</th>\n",
       "      <td>67</td>\n",
       "      <td>71</td>\n",
       "      <td>69</td>\n",
       "      <td>63</td>\n",
       "      <td>87</td>\n",
       "      <td>70</td>\n",
       "    </tr>\n",
       "    <tr>\n",
       "      <th>32</th>\n",
       "      <td>71</td>\n",
       "      <td>80</td>\n",
       "      <td>76</td>\n",
       "      <td>81</td>\n",
       "      <td>87</td>\n",
       "      <td>86</td>\n",
       "    </tr>\n",
       "    <tr>\n",
       "      <th>33</th>\n",
       "      <td>63</td>\n",
       "      <td>75</td>\n",
       "      <td>73</td>\n",
       "      <td>120</td>\n",
       "      <td>89</td>\n",
       "      <td>59</td>\n",
       "    </tr>\n",
       "    <tr>\n",
       "      <th>34</th>\n",
       "      <td>90</td>\n",
       "      <td>103</td>\n",
       "      <td>74</td>\n",
       "      <td>107</td>\n",
       "      <td>109</td>\n",
       "      <td>101</td>\n",
       "    </tr>\n",
       "    <tr>\n",
       "      <th>35</th>\n",
       "      <td>60</td>\n",
       "      <td>76</td>\n",
       "      <td>61</td>\n",
       "      <td>99</td>\n",
       "      <td>111</td>\n",
       "      <td>98</td>\n",
       "    </tr>\n",
       "    <tr>\n",
       "      <th>36</th>\n",
       "      <td>48</td>\n",
       "      <td>77</td>\n",
       "      <td>75</td>\n",
       "      <td>113</td>\n",
       "      <td>124</td>\n",
       "      <td>97</td>\n",
       "    </tr>\n",
       "    <tr>\n",
       "      <th>37</th>\n",
       "      <td>66</td>\n",
       "      <td>93</td>\n",
       "      <td>97</td>\n",
       "      <td>136</td>\n",
       "      <td>112</td>\n",
       "      <td>122</td>\n",
       "    </tr>\n",
       "    <tr>\n",
       "      <th>38</th>\n",
       "      <td>74</td>\n",
       "      <td>70</td>\n",
       "      <td>76</td>\n",
       "      <td>109</td>\n",
       "      <td>88</td>\n",
       "      <td>105</td>\n",
       "    </tr>\n",
       "    <tr>\n",
       "      <th>39</th>\n",
       "      <td>60</td>\n",
       "      <td>74</td>\n",
       "      <td>71</td>\n",
       "      <td>72</td>\n",
       "      <td>90</td>\n",
       "      <td>71</td>\n",
       "    </tr>\n",
       "    <tr>\n",
       "      <th>40</th>\n",
       "      <td>63</td>\n",
       "      <td>75</td>\n",
       "      <td>66</td>\n",
       "      <td>130</td>\n",
       "      <td>101</td>\n",
       "      <td>90</td>\n",
       "    </tr>\n",
       "    <tr>\n",
       "      <th>41</th>\n",
       "      <td>66</td>\n",
       "      <td>80</td>\n",
       "      <td>86</td>\n",
       "      <td>130</td>\n",
       "      <td>117</td>\n",
       "      <td>144</td>\n",
       "    </tr>\n",
       "    <tr>\n",
       "      <th>42</th>\n",
       "      <td>77</td>\n",
       "      <td>67</td>\n",
       "      <td>74</td>\n",
       "      <td>83</td>\n",
       "      <td>92</td>\n",
       "      <td>107</td>\n",
       "    </tr>\n",
       "    <tr>\n",
       "      <th>43</th>\n",
       "      <td>70</td>\n",
       "      <td>67</td>\n",
       "      <td>100</td>\n",
       "      <td>150</td>\n",
       "      <td>142</td>\n",
       "      <td>146</td>\n",
       "    </tr>\n",
       "    <tr>\n",
       "      <th>44</th>\n",
       "      <td>73</td>\n",
       "      <td>76</td>\n",
       "      <td>81</td>\n",
       "      <td>119</td>\n",
       "      <td>120</td>\n",
       "      <td>119</td>\n",
       "    </tr>\n",
       "    <tr>\n",
       "      <th>45</th>\n",
       "      <td>78</td>\n",
       "      <td>90</td>\n",
       "      <td>77</td>\n",
       "      <td>122</td>\n",
       "      <td>155</td>\n",
       "      <td>149</td>\n",
       "    </tr>\n",
       "    <tr>\n",
       "      <th>46</th>\n",
       "      <td>73</td>\n",
       "      <td>68</td>\n",
       "      <td>80</td>\n",
       "      <td>102</td>\n",
       "      <td>90</td>\n",
       "      <td>122</td>\n",
       "    </tr>\n",
       "    <tr>\n",
       "      <th>47</th>\n",
       "      <td>72</td>\n",
       "      <td>83</td>\n",
       "      <td>68</td>\n",
       "      <td>104</td>\n",
       "      <td>69</td>\n",
       "      <td>96</td>\n",
       "    </tr>\n",
       "    <tr>\n",
       "      <th>48</th>\n",
       "      <td>65</td>\n",
       "      <td>60</td>\n",
       "      <td>70</td>\n",
       "      <td>119</td>\n",
       "      <td>94</td>\n",
       "      <td>89</td>\n",
       "    </tr>\n",
       "    <tr>\n",
       "      <th>49</th>\n",
       "      <td>52</td>\n",
       "      <td>70</td>\n",
       "      <td>76</td>\n",
       "      <td>92</td>\n",
       "      <td>94</td>\n",
       "      <td>100</td>\n",
       "    </tr>\n",
       "  </tbody>\n",
       "</table>\n",
       "</div>"
      ],
      "text/plain": [
       "     y1   y2   y3   y4   y5   y6\n",
       "0    60   69   62   97   69   98\n",
       "1    56   53   84  103   78  107\n",
       "2    80   69   76   66   99  130\n",
       "3    55   80   90   80   85  114\n",
       "4    62   75   68  116  130   91\n",
       "5    74   64   70  109  101  103\n",
       "6    64   71   66   77  102  130\n",
       "7    73   70   64  115  110  109\n",
       "8    68   67   75   76   85  119\n",
       "9    69   82   74   72  133  127\n",
       "10   60   67   61  130  134  121\n",
       "11   70   74   78  150  158  100\n",
       "12   66   74   78  150  131  142\n",
       "13   83   70   74   99   98  105\n",
       "14   68   66   90  119   85  109\n",
       "15   78   63   75  164   98  138\n",
       "16  103   77   77  160  117  121\n",
       "17   77   68   74  144   71  153\n",
       "18   66   77   68   77   82   89\n",
       "19   70   70   72  114   93  122\n",
       "20   75   65   71   77   70  109\n",
       "21   91   74   93  118  115  150\n",
       "22   66   75   73  170  147  121\n",
       "23   75   82   76  153  132  115\n",
       "24   74   71   66  143  105  100\n",
       "25   76   70   64  114  113  129\n",
       "26   74   90   86   73  106  116\n",
       "27   74   77   80  116   81   77\n",
       "28   67   71   69   63   87   70\n",
       "29   78   75   80  105  132   80\n",
       "30   64   66   71   83   94  133\n",
       "31   67   71   69   63   87   70\n",
       "32   71   80   76   81   87   86\n",
       "33   63   75   73  120   89   59\n",
       "34   90  103   74  107  109  101\n",
       "35   60   76   61   99  111   98\n",
       "36   48   77   75  113  124   97\n",
       "37   66   93   97  136  112  122\n",
       "38   74   70   76  109   88  105\n",
       "39   60   74   71   72   90   71\n",
       "40   63   75   66  130  101   90\n",
       "41   66   80   86  130  117  144\n",
       "42   77   67   74   83   92  107\n",
       "43   70   67  100  150  142  146\n",
       "44   73   76   81  119  120  119\n",
       "45   78   90   77  122  155  149\n",
       "46   73   68   80  102   90  122\n",
       "47   72   83   68  104   69   96\n",
       "48   65   60   70  119   94   89\n",
       "49   52   70   76   92   94  100"
      ]
     },
     "execution_count": 8,
     "metadata": {},
     "output_type": "execute_result"
    }
   ],
   "source": [
    "cols = [f\"y{i+1}\" for i in range(6)]\n",
    "df = pd.read_table(\"data/T3_8_GLUCOSE.DAT\", header=None, sep=\"\\s+\", names=cols)\n",
    "df"
   ]
  },
  {
   "cell_type": "code",
   "execution_count": 18,
   "id": "6b4c6ef4-29eb-4907-9aac-275868f0127f",
   "metadata": {},
   "outputs": [
    {
     "name": "stdout",
     "output_type": "stream",
     "text": [
      "[[ 95.5444898   17.60897959  12.1755102   60.51591837  23.00081633\n",
      "   62.83836735]\n",
      " [ 17.60897959  73.1922449   14.25102041   5.72734694  61.27591837\n",
      "   -1.66244898]\n",
      " [ 12.1755102   14.25102041  76.17346939  46.74693878  32.77142857\n",
      "   69.83877551]\n",
      " [ 60.51591837   5.72734694  46.74693878 808.63020408 320.58857143\n",
      "  227.36081633]\n",
      " [ 23.00081633  61.27591837  32.77142857 320.58857143 505.85959184\n",
      "  167.35183673]\n",
      " [ 62.83836735  -1.66244898  69.83877551 227.36081633 167.35183673\n",
      "  508.71387755]]\n"
     ]
    }
   ],
   "source": [
    "S = df.cov().to_numpy()\n",
    "print(S)"
   ]
  },
  {
   "cell_type": "code",
   "execution_count": 21,
   "id": "1c890c87-5bdc-4164-980a-98d09327fa04",
   "metadata": {},
   "outputs": [
    {
     "data": {
      "text/plain": [
       "array([ 95.5444898 ,  73.1922449 ,  76.17346939, 808.63020408,\n",
       "       505.85959184, 508.71387755])"
      ]
     },
     "execution_count": 21,
     "metadata": {},
     "output_type": "execute_result"
    }
   ],
   "source": [
    "np.diag(S)"
   ]
  },
  {
   "cell_type": "markdown",
   "id": "10bdf8b4-b049-404d-b728-3cf102dd6360",
   "metadata": {},
   "source": [
    "We can see that variances differ a lot, which means that it is justifiable to use PCA with matrix $R$ instead of $S$. We will do both:"
   ]
  },
  {
   "cell_type": "code",
   "execution_count": 37,
   "id": "8d428395-69e5-4855-af1b-ad5112e82d6f",
   "metadata": {},
   "outputs": [],
   "source": [
    "def eigsorted(A):\n",
    "    vals, vecs = np.linalg.eigh(A)\n",
    "    order = vals.argsort()[::-1]\n",
    "    return vals[order], vecs[:,order]"
   ]
  },
  {
   "cell_type": "code",
   "execution_count": 38,
   "id": "05527169-3683-4870-8830-2d7adc2645d2",
   "metadata": {},
   "outputs": [],
   "source": [
    "eigen_val, eigen_vect = eigsorted(S)"
   ]
  },
  {
   "cell_type": "code",
   "execution_count": 39,
   "id": "4d695bc3-8e6b-48de-9c40-eaa0ca051509",
   "metadata": {},
   "outputs": [],
   "source": [
    "disp_retained = [np.sum(eigen_val[:i+1])/np.sum(eigen_val) for i in range(eigen_val.shape[0])]"
   ]
  },
  {
   "cell_type": "code",
   "execution_count": 40,
   "id": "50534897-d71b-4556-9811-89b4fc03063c",
   "metadata": {},
   "outputs": [
    {
     "data": {
      "text/plain": [
       "[0.5570192594590959,\n",
       " 0.747590175771829,\n",
       " 0.89786519516983,\n",
       " 0.945139003814336,\n",
       " 0.9784234174973956,\n",
       " 1.0]"
      ]
     },
     "execution_count": 40,
     "metadata": {},
     "output_type": "execute_result"
    }
   ],
   "source": [
    "disp_retained"
   ]
  },
  {
   "cell_type": "markdown",
   "id": "770c0e0b-03de-4a6d-817c-37cda0ca1211",
   "metadata": {},
   "source": [
    "If we want to choose $\\lambda_i \\geq \\bar{\\lambda}$:"
   ]
  },
  {
   "cell_type": "code",
   "execution_count": 55,
   "id": "553b90f2-838b-49d1-b4fa-6d328d09d8d7",
   "metadata": {},
   "outputs": [
    {
     "name": "stdout",
     "output_type": "stream",
     "text": [
      "[1151.97926055  394.12235668]\n",
      "[[-0.08007824 -0.09212769  0.06885666  0.805104    0.46093441 -0.34598517]\n",
      " [-0.03368073  0.01754852 -0.2016778   0.51825669 -0.29488846  0.77610213]]\n",
      "retained varience = 0.747590175771829\n"
     ]
    }
   ],
   "source": [
    "mask = (eigen_val >= eigen_val.mean())\n",
    "print(eigen_val[mask])\n",
    "print(eigen_vect[mask])\n",
    "print(f\"retained varience = {np.sum(eigen_val[mask])/np.sum(eigen_val)}\")"
   ]
  },
  {
   "cell_type": "markdown",
   "id": "47118fab-7e10-49ed-807e-11c0cd236bd7",
   "metadata": {},
   "source": [
    "Scree plot:"
   ]
  },
  {
   "cell_type": "code",
   "execution_count": 52,
   "id": "da4610b4-2656-4808-9c3f-ceec05ad6a1a",
   "metadata": {},
   "outputs": [
    {
     "data": {
      "image/png": "[encoded data removed]",
      "text/plain": [
       "<Figure size 640x480 with 1 Axes>"
      ]
     },
     "metadata": {},
     "output_type": "display_data"
    }
   ],
   "source": [
    "fig, ax = plt.subplots()\n",
    "\n",
    "ax.plot(np.arange(1, eigen_val.shape[0] + 1, 1), eigen_val, color ='blue', marker=\".\")\n",
    "\n",
    "plt.xlabel(\"eigenvalue number\")\n",
    "plt.ylabel(\"eigenvalue value\")\n",
    "\n",
    "plt.show()"
   ]
  },
  {
   "cell_type": "markdown",
   "id": "fa4e285c-624c-48e7-bf97-eaf5bf791dde",
   "metadata": {},
   "source": [
    "Based on the plot we should select first 3 eigenvectors:"
   ]
  },
  {
   "cell_type": "code",
   "execution_count": 56,
   "id": "c7509958-ee55-4faa-b738-3b5c522b85ed",
   "metadata": {},
   "outputs": [
    {
     "name": "stdout",
     "output_type": "stream",
     "text": [
      "[1151.97926055  394.12235668  310.78585307]\n",
      "[[-0.08007824 -0.09212769  0.06885666  0.805104    0.46093441 -0.34598517]\n",
      " [-0.03368073  0.01754852 -0.2016778   0.51825669 -0.29488846  0.77610213]\n",
      " [-0.07603295 -0.12171053  0.01077758  0.24733551 -0.8302299  -0.47836476]]\n",
      "retained varience = 0.89786519516983\n"
     ]
    }
   ],
   "source": [
    "print(eigen_val[:3])\n",
    "print(eigen_vect[:3])\n",
    "print(f\"retained varience = {np.sum(eigen_val[:3])/np.sum(eigen_val)}\")"
   ]
  },
  {
   "cell_type": "markdown",
   "id": "09feb1d0-5fd1-4d63-a264-dcf092855620",
   "metadata": {},
   "source": [
    "Now we will do the same with correlation matrix $R$:"
   ]
  },
  {
   "cell_type": "code",
   "execution_count": 57,
   "id": "ca03facd-d146-4002-8dac-864f43aad53d",
   "metadata": {},
   "outputs": [
    {
     "name": "stdout",
     "output_type": "stream",
     "text": [
      "[[ 1.          0.21057113  0.14271922  0.21771674  0.10462258  0.28502652]\n",
      " [ 0.21057113  1.          0.19085852  0.02354214  0.31845077 -0.00861547]\n",
      " [ 0.14271922  0.19085852  1.          0.18835464  0.16694696  0.35477904]\n",
      " [ 0.21771674  0.02354214  0.18835464  1.          0.50125424  0.35448989]\n",
      " [ 0.10462258  0.31845077  0.16694696  0.50125424  1.          0.32989725]\n",
      " [ 0.28502652 -0.00861547  0.35477904  0.35448989  0.32989725  1.        ]]\n"
     ]
    }
   ],
   "source": [
    "R = df.corr().to_numpy()\n",
    "print(R)"
   ]
  },
  {
   "cell_type": "code",
   "execution_count": 58,
   "id": "d766db13-e176-4318-8c17-ad9c26068833",
   "metadata": {},
   "outputs": [],
   "source": [
    "eigen_val, eigen_vect = eigsorted(R)"
   ]
  },
  {
   "cell_type": "code",
   "execution_count": 59,
   "id": "66c02a1c-1b21-43b5-b873-e53139cc7424",
   "metadata": {},
   "outputs": [
    {
     "data": {
      "text/plain": [
       "[0.3628001507552537,\n",
       " 0.5427516344844348,\n",
       " 0.7057185910709218,\n",
       " 0.8500053573507097,\n",
       " 0.9419531191021022,\n",
       " 1.0]"
      ]
     },
     "execution_count": 59,
     "metadata": {},
     "output_type": "execute_result"
    }
   ],
   "source": [
    "disp_retained = [np.sum(eigen_val[:i+1])/np.sum(eigen_val) for i in range(eigen_val.shape[0])]\n",
    "disp_retained"
   ]
  },
  {
   "cell_type": "markdown",
   "id": "1cc2c990-9953-4bef-84c2-402d90d3755f",
   "metadata": {},
   "source": [
    "If we want to choose $\\lambda_i \\geq \\bar{\\lambda}$:"
   ]
  },
  {
   "cell_type": "code",
   "execution_count": 61,
   "id": "ba01181b-6304-47ec-badf-630d3b118446",
   "metadata": {},
   "outputs": [
    {
     "name": "stdout",
     "output_type": "stream",
     "text": [
      "[2.1768009 1.0797089]\n",
      "[[ 0.33610232 -0.17632066  0.49650553  0.71320481  0.14079025  0.28450928]\n",
      " [ 0.25777695 -0.84305715 -0.09320965 -0.06547271 -0.11455634 -0.44351755]]\n",
      "retained varience = 0.5427516344844348\n"
     ]
    }
   ],
   "source": [
    "mask = (eigen_val >= eigen_val.mean())\n",
    "print(eigen_val[mask])\n",
    "print(eigen_vect[mask])\n",
    "print(f\"retained varience = {np.sum(eigen_val[mask])/np.sum(eigen_val)}\")"
   ]
  },
  {
   "cell_type": "markdown",
   "id": "aba1002b-3101-482b-850b-71573dcc23eb",
   "metadata": {},
   "source": [
    "Scree plot:"
   ]
  },
  {
   "cell_type": "code",
   "execution_count": 62,
   "id": "fe548042-2e33-43b7-a187-01e17da7f7b8",
   "metadata": {},
   "outputs": [
    {
     "data": {
      "image/png": "[encoded data removed]",
      "text/plain": [
       "<Figure size 640x480 with 1 Axes>"
      ]
     },
     "metadata": {},
     "output_type": "display_data"
    }
   ],
   "source": [
    "fig, ax = plt.subplots()\n",
    "\n",
    "ax.plot(np.arange(1, eigen_val.shape[0] + 1, 1), eigen_val, color ='blue', marker=\".\")\n",
    "\n",
    "plt.xlabel(\"eigenvalue number\")\n",
    "plt.ylabel(\"eigenvalue value\")\n",
    "\n",
    "plt.show()"
   ]
  },
  {
   "cell_type": "markdown",
   "id": "f620c381-8e81-4a50-b960-b775bb094c98",
   "metadata": {},
   "source": [
    "Based on the plot we should select first 4 eigenvectors:"
   ]
  },
  {
   "cell_type": "code",
   "execution_count": 66,
   "id": "5fd7d081-5462-4b0e-b78a-190cc632bce7",
   "metadata": {},
   "outputs": [
    {
     "name": "stdout",
     "output_type": "stream",
     "text": [
      "[2.1768009  1.0797089  0.97780174 0.8657206 ]\n",
      "[[ 0.33610232 -0.17632066  0.49650553  0.71320481  0.14079025  0.28450928]\n",
      " [ 0.25777695 -0.84305715 -0.09320965 -0.06547271 -0.11455634 -0.44351755]\n",
      " [ 0.36952081 -0.04919564  0.46644095 -0.67089139  0.38667196  0.20941953]\n",
      " [ 0.47541921  0.32867121 -0.35768216  0.172688    0.55850979 -0.44301349]]\n",
      "retained varience = 0.8500053573507097\n"
     ]
    }
   ],
   "source": [
    "print(eigen_val[:4])\n",
    "print(eigen_vect[:4])\n",
    "print(f\"retained varience = {np.sum(eigen_val[:4])/np.sum(eigen_val)}\")"
   ]
  },
  {
   "cell_type": "markdown",
   "id": "8df23105-d7df-400d-8696-d53fe37bbc7e",
   "metadata": {},
   "source": [
    "### Ex 2) (Rencher 12.10)"
   ]
  },
  {
   "cell_type": "markdown",
   "id": "7b17cd28-1995-49c3-bf8c-1084f5b6f9ab",
   "metadata": {},
   "source": [
    "Carry out a principal component analysis separately for males and females in\n",
    "the psychological data of Table 5.1. Compare the results for the two groups.\n",
    "Use S."
   ]
  },
  {
   "cell_type": "code",
   "execution_count": 68,
   "id": "2e114540-822d-4a5b-9d01-6b8aec1167e1",
   "metadata": {},
   "outputs": [
    {
     "data": {
      "text/html": [
       "<div>\n",
       "<style scoped>\n",
       "    .dataframe tbody tr th:only-of-type {\n",
       "        vertical-align: middle;\n",
       "    }\n",
       "\n",
       "    .dataframe tbody tr th {\n",
       "        vertical-align: top;\n",
       "    }\n",
       "\n",
       "    .dataframe thead th {\n",
       "        text-align: right;\n",
       "    }\n",
       "</style>\n",
       "<table border=\"1\" class=\"dataframe\">\n",
       "  <thead>\n",
       "    <tr style=\"text-align: right;\">\n",
       "      <th></th>\n",
       "      <th>type</th>\n",
       "      <th>y1</th>\n",
       "      <th>y2</th>\n",
       "      <th>y3</th>\n",
       "      <th>y4</th>\n",
       "    </tr>\n",
       "  </thead>\n",
       "  <tbody>\n",
       "    <tr>\n",
       "      <th>0</th>\n",
       "      <td>1</td>\n",
       "      <td>15</td>\n",
       "      <td>17</td>\n",
       "      <td>24</td>\n",
       "      <td>14</td>\n",
       "    </tr>\n",
       "    <tr>\n",
       "      <th>1</th>\n",
       "      <td>1</td>\n",
       "      <td>17</td>\n",
       "      <td>15</td>\n",
       "      <td>32</td>\n",
       "      <td>26</td>\n",
       "    </tr>\n",
       "    <tr>\n",
       "      <th>2</th>\n",
       "      <td>1</td>\n",
       "      <td>15</td>\n",
       "      <td>14</td>\n",
       "      <td>29</td>\n",
       "      <td>23</td>\n",
       "    </tr>\n",
       "    <tr>\n",
       "      <th>3</th>\n",
       "      <td>1</td>\n",
       "      <td>13</td>\n",
       "      <td>12</td>\n",
       "      <td>10</td>\n",
       "      <td>16</td>\n",
       "    </tr>\n",
       "    <tr>\n",
       "      <th>4</th>\n",
       "      <td>1</td>\n",
       "      <td>20</td>\n",
       "      <td>17</td>\n",
       "      <td>26</td>\n",
       "      <td>28</td>\n",
       "    </tr>\n",
       "    <tr>\n",
       "      <th>...</th>\n",
       "      <td>...</td>\n",
       "      <td>...</td>\n",
       "      <td>...</td>\n",
       "      <td>...</td>\n",
       "      <td>...</td>\n",
       "    </tr>\n",
       "    <tr>\n",
       "      <th>59</th>\n",
       "      <td>2</td>\n",
       "      <td>13</td>\n",
       "      <td>15</td>\n",
       "      <td>18</td>\n",
       "      <td>20</td>\n",
       "    </tr>\n",
       "    <tr>\n",
       "      <th>60</th>\n",
       "      <td>2</td>\n",
       "      <td>11</td>\n",
       "      <td>16</td>\n",
       "      <td>18</td>\n",
       "      <td>28</td>\n",
       "    </tr>\n",
       "    <tr>\n",
       "      <th>61</th>\n",
       "      <td>2</td>\n",
       "      <td>7</td>\n",
       "      <td>7</td>\n",
       "      <td>19</td>\n",
       "      <td>18</td>\n",
       "    </tr>\n",
       "    <tr>\n",
       "      <th>62</th>\n",
       "      <td>2</td>\n",
       "      <td>12</td>\n",
       "      <td>15</td>\n",
       "      <td>7</td>\n",
       "      <td>28</td>\n",
       "    </tr>\n",
       "    <tr>\n",
       "      <th>63</th>\n",
       "      <td>2</td>\n",
       "      <td>6</td>\n",
       "      <td>5</td>\n",
       "      <td>6</td>\n",
       "      <td>13</td>\n",
       "    </tr>\n",
       "  </tbody>\n",
       "</table>\n",
       "<p>64 rows × 5 columns</p>\n",
       "</div>"
      ],
      "text/plain": [
       "    type  y1  y2  y3  y4\n",
       "0      1  15  17  24  14\n",
       "1      1  17  15  32  26\n",
       "2      1  15  14  29  23\n",
       "3      1  13  12  10  16\n",
       "4      1  20  17  26  28\n",
       "..   ...  ..  ..  ..  ..\n",
       "59     2  13  15  18  20\n",
       "60     2  11  16  18  28\n",
       "61     2   7   7  19  18\n",
       "62     2  12  15   7  28\n",
       "63     2   6   5   6  13\n",
       "\n",
       "[64 rows x 5 columns]"
      ]
     },
     "execution_count": 68,
     "metadata": {},
     "output_type": "execute_result"
    }
   ],
   "source": [
    "cols = [\"type\"] + [f\"y{i+1}\" for i in range(4)]\n",
    "df = pd.read_table(\"data/T5_1_PSYCH.DAT\", header=None, sep=\"\\s+\", names=cols)\n",
    "df"
   ]
  },
  {
   "cell_type": "code",
   "execution_count": 69,
   "id": "840981db-6a67-4677-937a-5678d256f39a",
   "metadata": {},
   "outputs": [],
   "source": [
    "df_1 = df[df[\"type\"] == 1].drop(columns=\"type\")\n",
    "df_2 = df[df[\"type\"] == 2].drop(columns=\"type\")"
   ]
  },
  {
   "cell_type": "code",
   "execution_count": 70,
   "id": "7103973e-a274-423d-9e66-f69eeab8f76c",
   "metadata": {},
   "outputs": [],
   "source": [
    "S_1 = df_1.cov().to_numpy()\n",
    "S_2 = df_2.cov().to_numpy()"
   ]
  },
  {
   "cell_type": "code",
   "execution_count": 71,
   "id": "93b5baa7-9511-4594-96dd-39f8571e94b4",
   "metadata": {},
   "outputs": [
    {
     "data": {
      "text/plain": [
       "(array([ 5.19254032, 13.18447581, 28.6733871 , 16.64516129]),\n",
       " array([ 9.13608871, 18.60383065, 30.03931452, 27.99596774]))"
      ]
     },
     "execution_count": 71,
     "metadata": {},
     "output_type": "execute_result"
    }
   ],
   "source": [
    "np.diag(S_1), np.diag(S_2)"
   ]
  },
  {
   "cell_type": "code",
   "execution_count": 72,
   "id": "6d6f0178-03e6-43d0-b120-9f4430ed3e5c",
   "metadata": {},
   "outputs": [],
   "source": [
    "eigen_val_1, eigen_vect_1 = eigsorted(S_1)\n",
    "eigen_val_2, eigen_vect_2 = eigsorted(S_2)"
   ]
  },
  {
   "cell_type": "code",
   "execution_count": 73,
   "id": "6ff2277d-e887-4c79-9d88-e40c6dce4056",
   "metadata": {},
   "outputs": [],
   "source": [
    "disp_retained_1 = [np.sum(eigen_val_1[:i+1])/np.sum(eigen_val_1) for i in range(eigen_val_1.shape[0])]\n",
    "disp_retained_2 = [np.sum(eigen_val_2[:i+1])/np.sum(eigen_val_2) for i in range(eigen_val_2.shape[0])]"
   ]
  },
  {
   "cell_type": "code",
   "execution_count": 74,
   "id": "36355bda-14f0-4e48-a57c-a721f52062d2",
   "metadata": {},
   "outputs": [
    {
     "data": {
      "text/plain": [
       "([0.6839343301528799, 0.8588003034711625, 0.9604218667879642, 1.0],\n",
       " [0.5707435602060281, 0.7859982410548759, 0.9438292388562162, 1.0])"
      ]
     },
     "execution_count": 74,
     "metadata": {},
     "output_type": "execute_result"
    }
   ],
   "source": [
    "(disp_retained_1, disp_retained_2)"
   ]
  },
  {
   "cell_type": "markdown",
   "id": "454bec95-4c6a-42f5-9416-d46366d67590",
   "metadata": {},
   "source": [
    "Scree plots:"
   ]
  },
  {
   "cell_type": "code",
   "execution_count": 85,
   "id": "b276f9bb-1b30-4392-86cb-3bcc0b3c7a5b",
   "metadata": {},
   "outputs": [
    {
     "data": {
      "image/png": "[encoded data removed]",
      "text/plain": [
       "<Figure size 700x400 with 2 Axes>"
      ]
     },
     "metadata": {},
     "output_type": "display_data"
    }
   ],
   "source": [
    "fig, ax = plt.subplots(1, 2, figsize=(7, 4))\n",
    "\n",
    "ax[0].plot(np.arange(1, eigen_val_1.shape[0] + 1, 1), eigen_val_1, color ='blue', marker=\".\")\n",
    "ax[1].plot(np.arange(1, eigen_val_2.shape[0] + 1, 1), eigen_val_2, color ='red', marker=\".\")\n",
    "\n",
    "plt.show()"
   ]
  },
  {
   "cell_type": "code",
   "execution_count": 87,
   "id": "fd83e6fc-fca7-41bd-80a4-b10c141bff1e",
   "metadata": {},
   "outputs": [
    {
     "data": {
      "image/png": "[encoded data removed]",
      "text/plain": [
       "<Figure size 640x480 with 1 Axes>"
      ]
     },
     "metadata": {},
     "output_type": "display_data"
    }
   ],
   "source": [
    "fig, ax = plt.subplots()\n",
    "\n",
    "ax.plot(np.arange(1, eigen_val_1.shape[0] + 1, 1), disp_retained_1, color ='blue', marker=\".\")\n",
    "ax.plot(np.arange(1, eigen_val_1.shape[0] + 1, 1), disp_retained_2, color ='red', marker=\".\")\n",
    "\n",
    "plt.show()"
   ]
  },
  {
   "cell_type": "code",
   "execution_count": null,
   "id": "777ed71d-d5e4-4ff8-88c3-e01e311b0e14",
   "metadata": {},
   "outputs": [],
   "source": []
  }
 ],
 "metadata": {
  "kernelspec": {
   "display_name": "Python 3 (ipykernel)",
   "language": "python",
   "name": "python3"
  },
  "language_info": {
   "codemirror_mode": {
    "name": "ipython",
    "version": 3
   },
   "file_extension": ".py",
   "mimetype": "text/x-python",
   "name": "python",
   "nbconvert_exporter": "python",
   "pygments_lexer": "ipython3",
   "version": "3.11.1"
  }
 },
 "nbformat": 4,
 "nbformat_minor": 5
}
