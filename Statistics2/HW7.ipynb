{
 "cells": [
  {
   "cell_type": "markdown",
   "id": "68412b7d-92e8-4ebe-ab07-f43687c27c64",
   "metadata": {
    "jp-MarkdownHeadingCollapsed": true,
    "tags": []
   },
   "source": [
    "## Setup"
   ]
  },
  {
   "cell_type": "code",
   "execution_count": 1,
   "id": "caa185ba-13e5-41c9-aa7a-873d8c8d802e",
   "metadata": {},
   "outputs": [],
   "source": [
    "import numpy as np\n",
    "import matplotlib.pyplot as plt\n",
    "import pandas as pd\n",
    "import scipy as sci\n",
    "\n",
    "from sklearn.metrics import confusion_matrix"
   ]
  },
  {
   "cell_type": "markdown",
   "id": "24ad38bf-37fd-427f-8322-f4e58f15f293",
   "metadata": {
    "jp-MarkdownHeadingCollapsed": true,
    "tags": []
   },
   "source": [
    "## Exercise 9.11.)"
   ]
  },
  {
   "cell_type": "markdown",
   "id": "6a35daaa-9dba-45bb-a508-2ea38f9a2c20",
   "metadata": {},
   "source": [
    "Do a classification analysis on the rootstock data of Table 6.2 as follows:\n",
    "\n",
    "1. Find the linear classification functions.\n",
    "2. Find the classification table using the linear classification functions in part 1 (assuming $\\Sigma_1 = \\Sigma_2 = \\Sigma_3$).\n",
    "3. Find the classification table using quadratic classification functions (assuming population covariance matrices are not equal).\n",
    "4. Find the classification table using the nearest neighbor method.\n",
    "5. Find the classification table using a kernel density estimator "
   ]
  },
  {
   "cell_type": "markdown",
   "id": "a3a24090-03be-4e38-a678-3d3cf214e9fd",
   "metadata": {
    "jp-MarkdownHeadingCollapsed": true,
    "tags": []
   },
   "source": [
    "### Setup"
   ]
  },
  {
   "cell_type": "code",
   "execution_count": 2,
   "id": "1d80d5ce-2928-4f4f-8bb3-54ea22090940",
   "metadata": {},
   "outputs": [],
   "source": [
    "names = [\"type\"] + [f\"y{i+1}\" for i in range(4)]\n",
    "df = pd.read_table(\"Data/T6_2_ROOT.DAT\", header=None, sep=\"\\s+\", names=names)"
   ]
  },
  {
   "cell_type": "code",
   "execution_count": 3,
   "id": "8d90f64b-a68a-4073-8a56-f2e8ffb017be",
   "metadata": {},
   "outputs": [
    {
     "data": {
      "text/html": [
       "<div>\n",
       "<style scoped>\n",
       "    .dataframe tbody tr th:only-of-type {\n",
       "        vertical-align: middle;\n",
       "    }\n",
       "\n",
       "    .dataframe tbody tr th {\n",
       "        vertical-align: top;\n",
       "    }\n",
       "\n",
       "    .dataframe thead th {\n",
       "        text-align: right;\n",
       "    }\n",
       "</style>\n",
       "<table border=\"1\" class=\"dataframe\">\n",
       "  <thead>\n",
       "    <tr style=\"text-align: right;\">\n",
       "      <th></th>\n",
       "      <th>type</th>\n",
       "      <th>y1</th>\n",
       "      <th>y2</th>\n",
       "      <th>y3</th>\n",
       "      <th>y4</th>\n",
       "    </tr>\n",
       "  </thead>\n",
       "  <tbody>\n",
       "    <tr>\n",
       "      <th>0</th>\n",
       "      <td>1</td>\n",
       "      <td>1.11</td>\n",
       "      <td>2.569</td>\n",
       "      <td>3.58</td>\n",
       "      <td>0.760</td>\n",
       "    </tr>\n",
       "    <tr>\n",
       "      <th>1</th>\n",
       "      <td>1</td>\n",
       "      <td>1.19</td>\n",
       "      <td>2.928</td>\n",
       "      <td>3.75</td>\n",
       "      <td>0.821</td>\n",
       "    </tr>\n",
       "    <tr>\n",
       "      <th>2</th>\n",
       "      <td>1</td>\n",
       "      <td>1.09</td>\n",
       "      <td>2.865</td>\n",
       "      <td>3.93</td>\n",
       "      <td>0.928</td>\n",
       "    </tr>\n",
       "    <tr>\n",
       "      <th>3</th>\n",
       "      <td>1</td>\n",
       "      <td>1.25</td>\n",
       "      <td>3.844</td>\n",
       "      <td>3.94</td>\n",
       "      <td>1.009</td>\n",
       "    </tr>\n",
       "    <tr>\n",
       "      <th>4</th>\n",
       "      <td>1</td>\n",
       "      <td>1.11</td>\n",
       "      <td>3.027</td>\n",
       "      <td>3.60</td>\n",
       "      <td>0.766</td>\n",
       "    </tr>\n",
       "    <tr>\n",
       "      <th>5</th>\n",
       "      <td>1</td>\n",
       "      <td>1.08</td>\n",
       "      <td>2.336</td>\n",
       "      <td>3.51</td>\n",
       "      <td>0.726</td>\n",
       "    </tr>\n",
       "    <tr>\n",
       "      <th>6</th>\n",
       "      <td>1</td>\n",
       "      <td>1.11</td>\n",
       "      <td>3.211</td>\n",
       "      <td>3.98</td>\n",
       "      <td>1.209</td>\n",
       "    </tr>\n",
       "    <tr>\n",
       "      <th>7</th>\n",
       "      <td>1</td>\n",
       "      <td>1.16</td>\n",
       "      <td>3.037</td>\n",
       "      <td>3.62</td>\n",
       "      <td>0.750</td>\n",
       "    </tr>\n",
       "    <tr>\n",
       "      <th>8</th>\n",
       "      <td>2</td>\n",
       "      <td>1.05</td>\n",
       "      <td>2.074</td>\n",
       "      <td>4.09</td>\n",
       "      <td>1.036</td>\n",
       "    </tr>\n",
       "    <tr>\n",
       "      <th>9</th>\n",
       "      <td>2</td>\n",
       "      <td>1.17</td>\n",
       "      <td>2.885</td>\n",
       "      <td>4.06</td>\n",
       "      <td>1.094</td>\n",
       "    </tr>\n",
       "  </tbody>\n",
       "</table>\n",
       "</div>"
      ],
      "text/plain": [
       "   type    y1     y2    y3     y4\n",
       "0     1  1.11  2.569  3.58  0.760\n",
       "1     1  1.19  2.928  3.75  0.821\n",
       "2     1  1.09  2.865  3.93  0.928\n",
       "3     1  1.25  3.844  3.94  1.009\n",
       "4     1  1.11  3.027  3.60  0.766\n",
       "5     1  1.08  2.336  3.51  0.726\n",
       "6     1  1.11  3.211  3.98  1.209\n",
       "7     1  1.16  3.037  3.62  0.750\n",
       "8     2  1.05  2.074  4.09  1.036\n",
       "9     2  1.17  2.885  4.06  1.094"
      ]
     },
     "execution_count": 3,
     "metadata": {},
     "output_type": "execute_result"
    }
   ],
   "source": [
    "df.head(10)"
   ]
  },
  {
   "cell_type": "code",
   "execution_count": 4,
   "id": "5d9b90b2-beed-4d29-b0f2-8e43fcce05d3",
   "metadata": {},
   "outputs": [
    {
     "data": {
      "text/plain": [
       "[1, 2, 3, 4, 5, 6]"
      ]
     },
     "execution_count": 4,
     "metadata": {},
     "output_type": "execute_result"
    }
   ],
   "source": [
    "type_l = list(set(df[\"type\"]))\n",
    "type_l"
   ]
  },
  {
   "cell_type": "code",
   "execution_count": 5,
   "id": "43050d2f-02e4-4b0d-8bb9-7e663314a8e5",
   "metadata": {},
   "outputs": [],
   "source": [
    "df_typed = [df[df[\"type\"] == i][[\"y1\", \"y2\", \"y3\", \"y4\"]] for i in type_l]"
   ]
  },
  {
   "cell_type": "markdown",
   "id": "bb080c4d-321c-4b11-91c4-e9384028d7e3",
   "metadata": {},
   "source": [
    "In our case for all classes we have the same number of trees:"
   ]
  },
  {
   "cell_type": "code",
   "execution_count": 6,
   "id": "21b58970-1f81-45e8-afcd-83066d9498d1",
   "metadata": {},
   "outputs": [
    {
     "name": "stdout",
     "output_type": "stream",
     "text": [
      "8\n",
      "8\n",
      "8\n",
      "8\n",
      "8\n",
      "8\n"
     ]
    }
   ],
   "source": [
    "for df_i in df_typed:\n",
    "    print(df_i.shape[0])"
   ]
  },
  {
   "cell_type": "code",
   "execution_count": 7,
   "id": "825a9706-37ce-4a8c-bab1-c510bdab4b56",
   "metadata": {},
   "outputs": [],
   "source": [
    "n = df_typed[0].shape[0]"
   ]
  },
  {
   "cell_type": "code",
   "execution_count": 8,
   "id": "941d6d96-dd14-459c-8d14-4d6952014f0d",
   "metadata": {},
   "outputs": [],
   "source": [
    "S = []\n",
    "for df_i in df_typed:\n",
    "    S.append(df_i.cov().to_numpy())\n",
    "S = np.array(S)"
   ]
  },
  {
   "cell_type": "code",
   "execution_count": 9,
   "id": "7e9fd4e9-6c99-4858-8d1c-4e795608ab8b",
   "metadata": {},
   "outputs": [],
   "source": [
    "S_pl = n/( df.shape[0] - len(type_l) ) * np.sum(S, axis=0)"
   ]
  },
  {
   "cell_type": "code",
   "execution_count": 10,
   "id": "a627fe38-a044-41a4-abf9-f8a31bae5b9d",
   "metadata": {},
   "outputs": [
    {
     "data": {
      "text/plain": [
       "array([[0.00870714, 0.046165  , 0.01507721, 0.00590857],\n",
       "       [0.046165  , 0.33041606, 0.11873776, 0.05742078],\n",
       "       [0.01507721, 0.11873776, 0.1167568 , 0.06752806],\n",
       "       [0.00590857, 0.05742078, 0.06752806, 0.04687142]])"
      ]
     },
     "execution_count": 10,
     "metadata": {},
     "output_type": "execute_result"
    }
   ],
   "source": [
    "S_pl"
   ]
  },
  {
   "cell_type": "code",
   "execution_count": 20,
   "id": "e5aff599-7532-4441-b3d3-d27d6f16dff0",
   "metadata": {},
   "outputs": [],
   "source": [
    "y_mean = []\n",
    "for df_i in df_typed:\n",
    "    y_mean.append(df_i.mean().to_numpy())\n",
    "\n",
    "y_mean = np.array(y_mean)"
   ]
  },
  {
   "cell_type": "markdown",
   "id": "c5969002-da7f-415a-ad78-d98e341ddf73",
   "metadata": {
    "jp-MarkdownHeadingCollapsed": true,
    "tags": []
   },
   "source": [
    "### 1-2"
   ]
  },
  {
   "cell_type": "code",
   "execution_count": 21,
   "id": "35fef028-233a-43f6-972d-fba986e06890",
   "metadata": {},
   "outputs": [],
   "source": [
    "def L(y):\n",
    "    ans = []\n",
    "    for i in range(len(type_l)):\n",
    "        ans.append(y_mean[i].T @ np.linalg.inv(S_pl) @ y - 0.5 * y_mean[i].T @ np.linalg.inv(S_pl) @ y_mean[i])\n",
    "    return np.array(ans)"
   ]
  },
  {
   "cell_type": "code",
   "execution_count": 22,
   "id": "d105383f-b7b6-4389-bf0e-aa069c6ad7fc",
   "metadata": {},
   "outputs": [],
   "source": [
    "def linear_classify(y):\n",
    "    return type_l[np.argmax(L(y))]"
   ]
  },
  {
   "cell_type": "code",
   "execution_count": 23,
   "id": "d1369eff-0eb5-4e07-bf2a-e9e3b4ea4d16",
   "metadata": {},
   "outputs": [],
   "source": [
    "df[\"lin_class\"] = df[[\"y1\", \"y2\", \"y3\", \"y4\"]].apply(linear_classify, axis=1)"
   ]
  },
  {
   "cell_type": "code",
   "execution_count": 24,
   "id": "b5b9fe83-8605-4ad4-967e-9d210d478423",
   "metadata": {},
   "outputs": [
    {
     "name": "stdout",
     "output_type": "stream",
     "text": [
      "[[5 0 0 1 0 2]\n",
      " [0 3 2 1 2 0]\n",
      " [0 0 6 1 1 0]\n",
      " [3 0 1 4 0 0]\n",
      " [0 3 1 0 3 1]\n",
      " [2 0 0 0 2 4]]\n"
     ]
    }
   ],
   "source": [
    "answer = confusion_matrix(df[\"type\"], df[\"lin_class\"])\n",
    "print(answer)"
   ]
  },
  {
   "cell_type": "code",
   "execution_count": 25,
   "id": "0efbc94e-e737-45dd-a5a1-8468f3bb28b9",
   "metadata": {},
   "outputs": [
    {
     "data": {
      "text/plain": [
       "0.5208333333333334"
      ]
     },
     "execution_count": 25,
     "metadata": {},
     "output_type": "execute_result"
    }
   ],
   "source": [
    "correct_rate = np.sum(np.diag(answer))/(np.sum(answer))\n",
    "correct_rate"
   ]
  },
  {
   "cell_type": "markdown",
   "id": "32ba62a4-3265-4810-9f66-98b413a38ca4",
   "metadata": {
    "jp-MarkdownHeadingCollapsed": true,
    "tags": []
   },
   "source": [
    "### 3"
   ]
  },
  {
   "cell_type": "code",
   "execution_count": 31,
   "id": "197b4975-b1a0-4122-aa57-ced9e147f300",
   "metadata": {},
   "outputs": [],
   "source": [
    "def Q(y):\n",
    "    ans = []\n",
    "    for i in range(len(type_l)):\n",
    "        ans.append(-0.5 * np.log(np.linalg.det(S[i])) - 0.5 * (y - y_mean[i]).T @ np.linalg.inv(S[i]) @ (y - y_mean[i]))\n",
    "    return np.array(ans)"
   ]
  },
  {
   "cell_type": "code",
   "execution_count": 32,
   "id": "33d7dab0-6189-4a73-a489-836f2bd02675",
   "metadata": {},
   "outputs": [],
   "source": [
    "def quadratic_classify(y):\n",
    "    return type_l[np.argmax(Q(y))]"
   ]
  },
  {
   "cell_type": "code",
   "execution_count": 33,
   "id": "f37ca6a5-4618-4896-b5a6-8006ec32a64d",
   "metadata": {},
   "outputs": [],
   "source": [
    "df[\"quad_class\"] = df[[\"y1\", \"y2\", \"y3\", \"y4\"]].apply(quadratic_classify, axis=1)"
   ]
  },
  {
   "cell_type": "code",
   "execution_count": 34,
   "id": "8d3014ef-c486-4d5f-b3d2-b8631a27ac0f",
   "metadata": {},
   "outputs": [
    {
     "name": "stdout",
     "output_type": "stream",
     "text": [
      "[[8 0 0 0 0 0]\n",
      " [0 7 0 1 0 0]\n",
      " [1 0 6 0 1 0]\n",
      " [0 0 1 7 0 0]\n",
      " [0 3 0 0 4 1]\n",
      " [2 0 0 0 1 5]]\n"
     ]
    }
   ],
   "source": [
    "answer = confusion_matrix(df[\"type\"], df[\"quad_class\"])\n",
    "print(answer)"
   ]
  },
  {
   "cell_type": "code",
   "execution_count": 35,
   "id": "2fa9c1bd-7ed6-4b9b-afa5-b599b4ff96eb",
   "metadata": {},
   "outputs": [
    {
     "data": {
      "text/plain": [
       "0.7708333333333334"
      ]
     },
     "execution_count": 35,
     "metadata": {},
     "output_type": "execute_result"
    }
   ],
   "source": [
    "correct_rate = np.sum(np.diag(answer))/(np.sum(answer))\n",
    "correct_rate"
   ]
  },
  {
   "cell_type": "markdown",
   "id": "a7ea0a1d-2500-4b13-8010-2fe595d178e2",
   "metadata": {
    "jp-MarkdownHeadingCollapsed": true,
    "tags": []
   },
   "source": [
    "### 4"
   ]
  },
  {
   "cell_type": "code",
   "execution_count": 36,
   "id": "47fdc96e-9fc0-47ec-b31d-7f2d456d109e",
   "metadata": {},
   "outputs": [],
   "source": [
    "def dist(y1, y2):\n",
    "    return (y1 - y2).T @ np.linalg.inv(S_pl) @ (y1 - y2)"
   ]
  },
  {
   "cell_type": "code",
   "execution_count": 74,
   "id": "6049e236-4850-4d9b-9bd8-fe3a308bb483",
   "metadata": {},
   "outputs": [],
   "source": [
    "def knn(y, k=3):\n",
    "    dist_list = []\n",
    "    for i in range(df.shape[0]):\n",
    "        yi = df[[\"y1\", \"y2\", \"y3\", \"y4\"]].to_numpy()[i]\n",
    "        dist_list.append(dist(y, yi))\n",
    "        \n",
    "    nearest = np.argsort(np.array(dist_list))\n",
    "    \n",
    "    return nearest[:k]"
   ]
  },
  {
   "cell_type": "code",
   "execution_count": 128,
   "id": "bf5192ae-4c99-418a-b0df-99dbf813e110",
   "metadata": {},
   "outputs": [],
   "source": [
    "def knn_classify(y, k=3):\n",
    "    # equal n_i are assumed, as in our situation\n",
    "    # in case of equal k_i we choose the nearest\n",
    "    nearest = knn(y, k)\n",
    "    type_nearest = df[\"type\"][nearest]\n",
    "    type_nearest = list(type_nearest)\n",
    "    \n",
    "    return max(set(type_nearest), key=type_nearest.count)"
   ]
  },
  {
   "cell_type": "code",
   "execution_count": 129,
   "id": "4b2f0254-99a5-43b6-a959-df82cd2d586d",
   "metadata": {},
   "outputs": [],
   "source": [
    "def knn_classify_with_ties(y, k=3):\n",
    "    # collect information about ties in the process\n",
    "    global ties_l\n",
    "    \n",
    "    nearest = knn(y, k)\n",
    "    type_nearest = df[\"type\"][nearest]\n",
    "    type_nearest = list(type_nearest)\n",
    "    \n",
    "    apperances = np.array([type_nearest.count(type_l[i]) for i in range(len(type_l))])\n",
    "    \n",
    "    winner = np.argmax(apperances)\n",
    "    if apperances[winner] == np.sort(apperances)[-2]:\n",
    "        ties_l[type_nearest[0]-1] += 1\n",
    "        \n",
    "    return type_l[winner]"
   ]
  },
  {
   "cell_type": "code",
   "execution_count": 124,
   "id": "487bba03-4439-4e14-8b96-1def4b997dbc",
   "metadata": {},
   "outputs": [],
   "source": [
    "df[\"knn_class\"] = df[[\"y1\", \"y2\", \"y3\", \"y4\"]].apply(knn_classify, axis=1)"
   ]
  },
  {
   "cell_type": "code",
   "execution_count": 125,
   "id": "67c29672-afb4-4a22-804b-20f39e4eb763",
   "metadata": {},
   "outputs": [
    {
     "name": "stdout",
     "output_type": "stream",
     "text": [
      "[[6 0 0 2 0 0]\n",
      " [0 7 0 0 1 0]\n",
      " [1 0 6 0 1 0]\n",
      " [3 0 0 5 0 0]\n",
      " [0 1 0 0 6 1]\n",
      " [2 0 0 1 0 5]]\n"
     ]
    }
   ],
   "source": [
    "answer = confusion_matrix(df[\"type\"], df[\"knn_class\"])\n",
    "print(answer)"
   ]
  },
  {
   "cell_type": "code",
   "execution_count": 127,
   "id": "474b7724-739e-4cbd-b10f-bebc4a051610",
   "metadata": {},
   "outputs": [
    {
     "data": {
      "text/plain": [
       "0.7291666666666666"
      ]
     },
     "execution_count": 127,
     "metadata": {},
     "output_type": "execute_result"
    }
   ],
   "source": [
    "correct_rate = np.sum(np.diag(answer))/(np.sum(answer))\n",
    "correct_rate"
   ]
  },
  {
   "cell_type": "code",
   "execution_count": 126,
   "id": "84b5b823-5f31-4a7a-ab38-ece156f71d01",
   "metadata": {},
   "outputs": [
    {
     "data": {
      "text/plain": [
       "array([1., 3., 0., 3., 0., 1.])"
      ]
     },
     "execution_count": 126,
     "metadata": {},
     "output_type": "execute_result"
    }
   ],
   "source": [
    "ties_l = np.zeros(len(type_l))\n",
    "df[\"knn_class_ties\"] = df[[\"y1\", \"y2\", \"y3\", \"y4\"]].apply(knn_classify_with_ties, axis=1)\n",
    "ties_l"
   ]
  },
  {
   "cell_type": "markdown",
   "id": "3a32d63a-d763-47b7-8645-99dece32e988",
   "metadata": {
    "jp-MarkdownHeadingCollapsed": true,
    "tags": []
   },
   "source": [
    "### 5"
   ]
  },
  {
   "cell_type": "code",
   "execution_count": 145,
   "id": "62b468f6-9199-489b-a361-1a22264e3eb3",
   "metadata": {},
   "outputs": [],
   "source": [
    "def f_hat(y, h=1, p=4):\n",
    "    # normal kernel\n",
    "    \n",
    "    coef = 1/(df.shape[0] * h**p * (np.linalg.det(S_pl))**0.5)\n",
    "    \n",
    "    ans = np.zeros(len(type_l))\n",
    "    for i in range(len(type_l)):\n",
    "        for yj in df_typed[i].to_numpy():\n",
    "            ans[i] += np.exp(-(y - yj).T @ np.linalg.inv(S_pl) @ (y - yj) / (2 * h ** 2))\n",
    "    \n",
    "    return coef * ans\n",
    "\n",
    "def kde_classify(y):\n",
    "    return type_l[np.argmax(f_hat(y))]"
   ]
  },
  {
   "cell_type": "code",
   "execution_count": 146,
   "id": "f51a6b2d-51fa-4242-89b2-e66efa22157a",
   "metadata": {},
   "outputs": [],
   "source": [
    "df[\"kde_class\"] = df[[\"y1\", \"y2\", \"y3\", \"y4\"]].apply(kde_classify, axis=1)"
   ]
  },
  {
   "cell_type": "code",
   "execution_count": 147,
   "id": "735849b1-4ade-48e6-a571-78d76ba3f72f",
   "metadata": {},
   "outputs": [
    {
     "name": "stdout",
     "output_type": "stream",
     "text": [
      "[[8 0 0 0 0 0]\n",
      " [0 7 1 0 0 0]\n",
      " [1 0 6 0 1 0]\n",
      " [1 0 0 7 0 0]\n",
      " [0 1 0 0 6 1]\n",
      " [3 0 0 0 0 5]]\n"
     ]
    }
   ],
   "source": [
    "answer = confusion_matrix(df[\"type\"], df[\"kde_class\"])\n",
    "print(answer)"
   ]
  },
  {
   "cell_type": "code",
   "execution_count": 148,
   "id": "95b47260-48f6-48f3-ae31-fb7cb2b3a18f",
   "metadata": {},
   "outputs": [
    {
     "data": {
      "text/plain": [
       "0.8125"
      ]
     },
     "execution_count": 148,
     "metadata": {},
     "output_type": "execute_result"
    }
   ],
   "source": [
    "correct_rate = np.sum(np.diag(answer))/(np.sum(answer))\n",
    "correct_rate"
   ]
  },
  {
   "cell_type": "code",
   "execution_count": null,
   "id": "83cb00b3-348e-4aaf-a0f6-c06de63b2fb9",
   "metadata": {},
   "outputs": [],
   "source": []
  }
 ],
 "metadata": {
  "kernelspec": {
   "display_name": "Python 3 (ipykernel)",
   "language": "python",
   "name": "python3"
  },
  "language_info": {
   "codemirror_mode": {
    "name": "ipython",
    "version": 3
   },
   "file_extension": ".py",
   "mimetype": "text/x-python",
   "name": "python",
   "nbconvert_exporter": "python",
   "pygments_lexer": "ipython3",
   "version": "3.11.1"
  }
 },
 "nbformat": 4,
 "nbformat_minor": 5
}
