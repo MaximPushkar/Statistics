{
 "cells": [
  {
   "cell_type": "markdown",
   "id": "7d1291ba-bb72-4f25-b0ce-0cdf0f162d84",
   "metadata": {},
   "source": [
    "## Домашнє завдання 4. Статистична перевiрка гiпотез\n",
    "\n",
    "#### Пушкар Максим"
   ]
  },
  {
   "cell_type": "code",
   "execution_count": 3,
   "id": "61c6c195-1f1a-4d14-8a4d-3862357c0a62",
   "metadata": {},
   "outputs": [],
   "source": [
    "import scipy.stats\n",
    "import numpy as np\n",
    "import matplotlib.pyplot as plt\n",
    "plt.rcParams[\"figure.figsize\"] = (10,6)"
   ]
  },
  {
   "cell_type": "markdown",
   "id": "04d49744-4d55-4b55-9b1a-e0fd3504c783",
   "metadata": {},
   "source": [
    "### Задача 1"
   ]
  },
  {
   "cell_type": "markdown",
   "id": "8238eee4-0352-4953-9c58-961f3d1d5de0",
   "metadata": {},
   "source": [
    "За твердженням компанiї «Ухань медiкалз», її новi лiки знижують рiвень\n",
    "холестеролу в кровi на 18 одиниць. Було проведено випробування на 60 пацiєнтах, середнє зниження склало 17,3 одиницi, середньоквадратичне вiдхилення\n",
    "4 одиницi. Чи можна на рiвнi значущостi 1 % спростувати твердження компанiї?"
   ]
  },
  {
   "cell_type": "markdown",
   "id": "6a521be1-91c1-4d86-8fbb-72e7b81c3203",
   "metadata": {},
   "source": [
    "$X, n = 60, \\ \\overline{X} = 17.3, \\ s_X = 4, \\ \\alpha = 0.01, \\ \\mu_0 = 18$ \n",
    "\n",
    "Припускаємо, що $X$ має нормальний розподіл. Перевіряємо \n",
    "$$H_0 \\ : \\ \\mu = \\mu_0$$\n",
    "\n",
    "Використовуємо t-тест Стьюдента:\n",
    "$$T = \\frac{\\overline{X} - \\mu_0}{s_X / \\sqrt{n}} \\simeq t_{n-1}$$"
   ]
  },
  {
   "cell_type": "code",
   "execution_count": 4,
   "id": "4c32365c-6dee-463f-9bfd-1aaf55897799",
   "metadata": {},
   "outputs": [
    {
     "data": {
      "text/plain": [
       "-1.3555441711725946"
      ]
     },
     "execution_count": 4,
     "metadata": {},
     "output_type": "execute_result"
    }
   ],
   "source": [
    "n = 60\n",
    "X_hat = 17.3\n",
    "s_X = 4\n",
    "mu_0 = 18\n",
    "al = 0.01\n",
    "\n",
    "t = (X_hat - mu_0)/(s_X / n**0.5)\n",
    "t"
   ]
  },
  {
   "cell_type": "markdown",
   "id": "ea0eb788-eb9b-4cd6-a70e-7a42651165fc",
   "metadata": {},
   "source": [
    "Перевіряємо чи належить статистика критичній області:"
   ]
  },
  {
   "cell_type": "code",
   "execution_count": 5,
   "id": "0caf44a8-f337-423f-a46e-58481955645f",
   "metadata": {},
   "outputs": [
    {
     "data": {
      "text/plain": [
       "True"
      ]
     },
     "execution_count": 5,
     "metadata": {},
     "output_type": "execute_result"
    }
   ],
   "source": [
    "scipy.stats.t.ppf(al/2, df=n-1) < t < scipy.stats.t.ppf(1 - al/2, df=n-1)"
   ]
  },
  {
   "cell_type": "markdown",
   "id": "a3e8f451-2035-4733-9910-d167b71c0a5b",
   "metadata": {},
   "source": [
    "Ні, не належить, одже гіпотезу $H_0$ не відхиляємо."
   ]
  },
  {
   "cell_type": "markdown",
   "id": "9e9ab506-95c7-4797-983e-f421efd05bc3",
   "metadata": {},
   "source": [
    "Альтернативно можна порахувати p-value:"
   ]
  },
  {
   "cell_type": "code",
   "execution_count": 6,
   "id": "a7fcbb45-635e-41c4-88de-8a524820dc1f",
   "metadata": {},
   "outputs": [
    {
     "data": {
      "text/plain": [
       "0.18041075552717975"
      ]
     },
     "execution_count": 6,
     "metadata": {},
     "output_type": "execute_result"
    }
   ],
   "source": [
    "p_value = 2 * scipy.stats.t.cdf(-abs(t), df=n-1)\n",
    "p_value"
   ]
  },
  {
   "cell_type": "code",
   "execution_count": 7,
   "id": "087a275c-134d-4e23-921c-e60731259911",
   "metadata": {},
   "outputs": [
    {
     "data": {
      "text/plain": [
       "True"
      ]
     },
     "execution_count": 7,
     "metadata": {},
     "output_type": "execute_result"
    }
   ],
   "source": [
    "p_value > al"
   ]
  },
  {
   "cell_type": "markdown",
   "id": "ddaff8de-41bf-4f96-9b07-cd789ea8656d",
   "metadata": {},
   "source": [
    "p-value більше за $\\alpha$, тому $H_0$ не відхиляємо."
   ]
  },
  {
   "cell_type": "markdown",
   "id": "d485a4c0-4f90-4c91-bbc8-fd4e6222bf9d",
   "metadata": {},
   "source": [
    "### Задача 2"
   ]
  },
  {
   "cell_type": "markdown",
   "id": "4dc1929d-e6e5-459c-a64a-168ee92c0914",
   "metadata": {},
   "source": [
    "В результатi вимiрювання зросту 12 дорослих японцiв та 12 дорослих англiйцiв визначили, що середнiй зрiст японцiв становить 167,5 см iз середньоквадратичним вiдхиленням 7,5 см, а середнiй зрiст англiйцiв становить 175 см iз середньоквадратичним вiдхиленням 5 см.\n",
    "\n",
    "    а) Чи можна стверджувати на рiвнi значущостi 5%, що англiйцi вищi, нiж японцi?\n",
    "    \n",
    "    б) Проаналiзуйте використанi вами припущення."
   ]
  },
  {
   "cell_type": "code",
   "execution_count": 30,
   "id": "5b1ae0ba-e87f-4b45-b4e0-c3be9c3a4720",
   "metadata": {},
   "outputs": [],
   "source": [
    "n = 12\n",
    "X_hat = 167.5\n",
    "sig_X = 7.5\n",
    "\n",
    "m = 12\n",
    "Y_hat = 175\n",
    "sig_Y = 5\n",
    "\n",
    "al = 0.05"
   ]
  },
  {
   "cell_type": "markdown",
   "id": "5668e8ee-d080-4913-9284-5f054b8aff3d",
   "metadata": {},
   "source": [
    "$H_0 \\ : \\ \\Delta = \\mu_X - \\mu_Y < 0$"
   ]
  },
  {
   "cell_type": "markdown",
   "id": "8a0b4b65-8690-408d-8ae1-aca2ec185c53",
   "metadata": {},
   "source": [
    "Припущення: \n",
    "\n",
    "1) $X, Y$ незалежні \n",
    "\n",
    "2) $X \\simeq N(\\mu_X, \\sigma^2)$ , $Y \\simeq N(\\mu_Y, \\sigma^2)$"
   ]
  },
  {
   "cell_type": "markdown",
   "id": "9b587794-8f24-4472-9aae-00a8cac67ab1",
   "metadata": {},
   "source": [
    "Використовуємо t-тест Стьюдента:\n",
    "\n",
    "$$s_p^2 = \\frac{(n-1)s_X^2 + (m-1)s_Y^2}{n+m-2} = \\frac{n\\sigma_X^2 + m\\sigma_Y^2}{n+m-2}$$\n",
    "\n",
    "$$T = \\frac{\\overline{X} - \\overline{Y}}{\\sqrt{\\frac{s_p^2}{n} + \\frac{s_p^2}{m}}} \\simeq t_{n + m - 2}$$"
   ]
  },
  {
   "cell_type": "code",
   "execution_count": 34,
   "id": "1cac919b-a2c0-4fbc-9aa3-93eff3ef7f8e",
   "metadata": {},
   "outputs": [],
   "source": [
    "s_p_squared = (n * sig_X**2 + m * sig_Y**2)/(n + m - 2)"
   ]
  },
  {
   "cell_type": "code",
   "execution_count": 32,
   "id": "8a884f34-57c8-4fde-88f2-2ba0933a0ce8",
   "metadata": {},
   "outputs": [
    {
     "data": {
      "text/plain": [
       "-2.7595986330233995"
      ]
     },
     "execution_count": 32,
     "metadata": {},
     "output_type": "execute_result"
    }
   ],
   "source": [
    "t = (X_hat - Y_hat)/((s_p_squared/n + s_p_squared/m)**0.5)\n",
    "t"
   ]
  },
  {
   "cell_type": "markdown",
   "id": "909f727a-22d9-42e4-ab9e-0c216a712d89",
   "metadata": {},
   "source": [
    "Перевіряємо чи належить статистика критичній області:"
   ]
  },
  {
   "cell_type": "code",
   "execution_count": 35,
   "id": "2919bcab-ff20-4ebe-a61a-d0f484e65685",
   "metadata": {},
   "outputs": [
    {
     "data": {
      "text/plain": [
       "True"
      ]
     },
     "execution_count": 35,
     "metadata": {},
     "output_type": "execute_result"
    }
   ],
   "source": [
    "t < scipy.stats.t.ppf(1 - al, df=n + m - 2)"
   ]
  },
  {
   "cell_type": "markdown",
   "id": "97ee6456-f13d-4122-ae92-85201a704adf",
   "metadata": {},
   "source": [
    "Ні, не належить, одже гіпотезу $H_0$ не відхиляємо."
   ]
  },
  {
   "cell_type": "markdown",
   "id": "8ac35666-7d0b-46d8-aebd-aabb6fb09bef",
   "metadata": {},
   "source": [
    "Альтернативно можна порахувати p-value:"
   ]
  },
  {
   "cell_type": "code",
   "execution_count": null,
   "id": "0b30deae-8300-4040-933b-558e695300f1",
   "metadata": {},
   "outputs": [
    {
     "data": {
      "text/plain": [
       "0.994282097730297"
      ]
     },
     "execution_count": 36,
     "metadata": {},
     "output_type": "execute_result"
    }
   ],
   "source": [
    "p_value = 1 - scipy.stats.t.cdf(t, df=n + m - 2)\n",
    "p_value"
   ]
  },
  {
   "cell_type": "code",
   "execution_count": 13,
   "id": "39035739-1184-4db9-937c-d7053c2ffc90",
   "metadata": {},
   "outputs": [
    {
     "data": {
      "text/plain": [
       "False"
      ]
     },
     "execution_count": 13,
     "metadata": {},
     "output_type": "execute_result"
    }
   ],
   "source": [
    "p_value > al"
   ]
  },
  {
   "cell_type": "markdown",
   "id": "d7d55e38-5ae7-499e-bb31-c7f9e90c15ea",
   "metadata": {},
   "source": [
    "p-value більше за $\\alpha$, тому $H_0$ не відхиляємо."
   ]
  },
  {
   "cell_type": "markdown",
   "id": "9626e7ef-4c60-47a3-b107-2ea9cd1acb56",
   "metadata": {},
   "source": [
    "### Задача 3"
   ]
  },
  {
   "cell_type": "markdown",
   "id": "baba0cef-5bdf-44c8-9b3d-a4bb3a265149",
   "metadata": {},
   "source": [
    "Компанiя виробляє диски для автомобiльних колiс рiзного дiаметру. Для порiвняння якостi було взято 18 дискiв номiнального дiаметру 17” та 25 дискiв номiнального дiаметру 18”. Виявилося, що вибiрковi середньоквадратичне вiдхилення дiаметру для першої групи становить 0,1”, для другої — 0,2”. На рiвнi значущостi 5 % перевiрте гiпотезу про те, що середньоквадратичнi вiдхилення для дискiв рiзного дiаметру вiдрiзняються."
   ]
  },
  {
   "cell_type": "code",
   "execution_count": 14,
   "id": "6848305d-3af2-4fa8-9b2e-b3131457e0da",
   "metadata": {},
   "outputs": [],
   "source": [
    "# X\n",
    "n1 = 18\n",
    "d1 = 17\n",
    "s1 = 0.1\n",
    "\n",
    "# Y\n",
    "n2 = 25\n",
    "d2 = 18\n",
    "s2 = 0.2\n",
    "\n",
    "al = 0.05"
   ]
  },
  {
   "cell_type": "markdown",
   "id": "6ecde579-8b10-4f7a-ba94-e78e0c4d6144",
   "metadata": {},
   "source": [
    "$H_0 \\ : \\ \\sigma_X^2 = \\sigma_Y^2$"
   ]
  },
  {
   "cell_type": "markdown",
   "id": "51a0a06b-e61a-4a0a-908f-df35996e9b33",
   "metadata": {},
   "source": [
    "Припущення: \n",
    "\n",
    "1) $X, Y$ незалежні \n",
    "\n",
    "2) $X, Y$ нормально розподілені"
   ]
  },
  {
   "cell_type": "markdown",
   "id": "b33c1e19-fd81-473d-bd26-575ea8d120e2",
   "metadata": {},
   "source": [
    "Користуємося F-тестом Фішера"
   ]
  },
  {
   "cell_type": "markdown",
   "id": "ead31b4a-14a0-4372-82f6-0852dc9cc237",
   "metadata": {},
   "source": [
    "$$F=\\frac{s^2_X}{s^2_Y}~ \\simeq ~F(n_1-1,n_2-1)$$"
   ]
  },
  {
   "cell_type": "code",
   "execution_count": 15,
   "id": "cde6aeaa-e925-4e5e-9939-b059d9567714",
   "metadata": {},
   "outputs": [
    {
     "data": {
      "text/plain": [
       "0.25"
      ]
     },
     "execution_count": 15,
     "metadata": {},
     "output_type": "execute_result"
    }
   ],
   "source": [
    "f = s1**2 / s2**2\n",
    "f"
   ]
  },
  {
   "cell_type": "markdown",
   "id": "4aa617cd-9941-40ec-97b8-5e7d0e47bf93",
   "metadata": {},
   "source": [
    "Критична область:"
   ]
  },
  {
   "cell_type": "code",
   "execution_count": 100,
   "id": "ff0d0334-9aeb-4c74-bfdd-e16289bee0c8",
   "metadata": {},
   "outputs": [
    {
     "data": {
      "text/plain": [
       "False"
      ]
     },
     "execution_count": 100,
     "metadata": {},
     "output_type": "execute_result"
    }
   ],
   "source": [
    "scipy.stats.f.ppf(al/2, dfn=n1-1, dfd=n2-1) < f < scipy.stats.f.ppf(1 - al/2, dfn=n1-1, dfd=n2-1)"
   ]
  },
  {
   "cell_type": "code",
   "execution_count": 101,
   "id": "ef99b52a-7f95-47b4-a129-824c1828cd6d",
   "metadata": {},
   "outputs": [
    {
     "data": {
      "image/png": "[encoded data removed]",
      "text/plain": [
       "<Figure size 720x432 with 1 Axes>"
      ]
     },
     "metadata": {
      "needs_background": "light"
     },
     "output_type": "display_data"
    }
   ],
   "source": [
    "x = np.linspace(0, 5, 500)\n",
    "y = scipy.stats.f.pdf(x, dfn=n1-1, dfd=n2-1)\n",
    "\n",
    "plt.xlim( 0, 5 )\n",
    "plt.ylim( 0, 1 )\n",
    "\n",
    "plt.plot(x, y)\n",
    "\n",
    "a = scipy.stats.f.ppf(al/2, dfn=n1-1, dfd=n2-1)\n",
    "b = scipy.stats.f.ppf(1 - al/2, dfn=n1-1, dfd=n2-1)\n",
    "\n",
    "# plt.axvline(x=a)\n",
    "# plt.axvline(x=b)\n",
    "plt.axvline(x=f, color=\"green\")\n",
    "\n",
    "x_left = np.linspace(0, a, 50)\n",
    "plt.fill_between(x=x_left, y1 = scipy.stats.f.pdf(x_left, dfn=n1-1, dfd=n2-1), color=\"red\")\n",
    "\n",
    "x_right = np.linspace(b, 5, 50)\n",
    "plt.fill_between(x=x_right, y1 = scipy.stats.f.pdf(x_right, dfn=n1-1, dfd=n2-1), color=\"red\")\n",
    "\n",
    "\n",
    "plt.show()"
   ]
  },
  {
   "cell_type": "markdown",
   "id": "363eb94a-b2ee-4c07-b896-cdf99f4a4767",
   "metadata": {
    "tags": []
   },
   "source": [
    "### Задача 4"
   ]
  },
  {
   "cell_type": "markdown",
   "id": "751a0113-9111-4f82-b572-99b7731acb60",
   "metadata": {},
   "source": [
    "За допомогою онлайн-генератора змоделюйте показники температури пацiєнтiв лiкарнi до та пiсля лiкування; отриманi вибiрки позначимо $X$ та $Y$. Вважається, що показники температури до лiкування мають нормальний розподiл з параметрами $N(\\mu_X , \\sigma^2)$, пiсля лiкування — нормальний розподiл з параметрами $N(\\mu_Y , \\sigma^2)$."
   ]
  },
  {
   "cell_type": "code",
   "execution_count": 102,
   "id": "64a87b3c-b7dc-407d-b44e-421f74f08ad3",
   "metadata": {},
   "outputs": [
    {
     "data": {
      "text/plain": [
       "array([36.96029785, 39.12398145, 36.13744857, 36.74158523, 39.38736541,\n",
       "       37.36069862, 38.72072616, 36.76190295, 38.63670885, 35.21798556,\n",
       "       37.71972959, 38.14559875, 37.66151491, 37.81951345, 37.0683477 ,\n",
       "       38.21864335, 37.13586447, 37.90261664, 37.90742185, 37.95470478,\n",
       "       37.72611352, 36.19788411, 38.03940751, 39.20351187, 37.82685495])"
      ]
     },
     "execution_count": 102,
     "metadata": {},
     "output_type": "execute_result"
    }
   ],
   "source": [
    "before = np.random.normal(37.6, 1, 25)\n",
    "after = np.random.normal(36.6, 1, 25)\n",
    "before"
   ]
  },
  {
   "cell_type": "markdown",
   "id": "a91c1372-8bd2-45a5-a359-786222ae0d32",
   "metadata": {},
   "source": [
    "а) Побудуйте (точний) 95 %-й довiрчий iнтервал для середнього значення температури до лiкування."
   ]
  },
  {
   "cell_type": "code",
   "execution_count": 103,
   "id": "831717a5-a502-4000-81e9-e47bb6a56f81",
   "metadata": {},
   "outputs": [],
   "source": [
    "al = 0.05"
   ]
  },
  {
   "cell_type": "markdown",
   "id": "7d33a1f0-b3a3-4854-aa52-e505b12ee192",
   "metadata": {},
   "source": [
    "$$T = \\frac{\\overline{X} - \\mu_0}{s_X / \\sqrt{n}} \\simeq t_{n-1}$$\n",
    "\n",
    "$$\\displaystyle \\mu \\in \\left[{\\hat {\\mu }}-t_{n-1,1-\\alpha /2}{\\frac {1}{\\sqrt {n}}}s_X,{\\hat {\\mu }}+t_{n-1,1-\\alpha /2}{\\frac {1}{\\sqrt {n}}}s_X\\right]$$"
   ]
  },
  {
   "cell_type": "markdown",
   "id": "0b903c56-d4bb-472c-9342-036c626264d5",
   "metadata": {},
   "source": [
    "Довірчий інтервал:"
   ]
  },
  {
   "cell_type": "code",
   "execution_count": 104,
   "id": "72515c2c-fe3e-43c8-b6cb-1eb78aaa79f1",
   "metadata": {},
   "outputs": [],
   "source": [
    "q = scipy.stats.t.ppf(1 - al/2, df=len(before)-1)\n",
    "a = np.mean(before) - q * np.std(before) / len(before)**0.5\n",
    "b = np.mean(before) + q * np.std(before) / len(before)**0.5"
   ]
  },
  {
   "cell_type": "code",
   "execution_count": 105,
   "id": "36317c7a-d76e-4d7a-a900-82b6090c667f",
   "metadata": {},
   "outputs": [
    {
     "name": "stdout",
     "output_type": "stream",
     "text": [
      "довірчий інтервал : (37.26012235223539, 38.06599189529498)\n"
     ]
    }
   ],
   "source": [
    "print(f\"довірчий інтервал : ({a}, {b})\")"
   ]
  },
  {
   "cell_type": "markdown",
   "id": "6346d070-717f-4778-aa6e-91755a47a493",
   "metadata": {},
   "source": [
    "б) За припущення незалежностi вибiрок $X$ та $Y$ сумiсна виправлена дисперсiя"
   ]
  },
  {
   "cell_type": "markdown",
   "id": "434b95ca-e6e2-4c64-bafc-5066462509cc",
   "metadata": {},
   "source": [
    "$$s_p^2 = \\frac1{48} \\left(\\sum_{k=1}^{25} (X_k-\\bar{X})^2 + \\sum_{k=1}^{25} (Y_k-\\bar{Y})^2\\right)$$"
   ]
  },
  {
   "cell_type": "markdown",
   "id": "11d2ab32-2211-4280-808e-e6c78ca1a844",
   "metadata": {},
   "source": [
    "має розподiл $\\frac{\\sigma^2}{48} \\chi^2_{48} $. Враховуючи\n",
    "цю iнформацiю, побудуйте (точний) 95 %-й правостороннiй довiрчий iнтервал\n",
    "для $\\sigma^2$."
   ]
  },
  {
   "cell_type": "code",
   "execution_count": 108,
   "id": "ecc4e9e0-a88b-4ab0-af30-118138362576",
   "metadata": {},
   "outputs": [],
   "source": [
    "s_p_squared = (before.var()*25 + after.var()*25)/48"
   ]
  },
  {
   "cell_type": "code",
   "execution_count": 115,
   "id": "3789dbf0-7618-43cb-9895-8f4b35a0ee1c",
   "metadata": {},
   "outputs": [],
   "source": [
    "q1, q2 = scipy.stats.chi2.ppf(al/2, df=48), scipy.stats.chi2.ppf(1 - al/2, df=48)\n",
    "a = s_p_squared * 48 / q2\n",
    "b = s_p_squared * 48 / q1"
   ]
  },
  {
   "cell_type": "code",
   "execution_count": 116,
   "id": "f89ce5ef-923a-41d0-bd7a-cbc9ded03eaf",
   "metadata": {},
   "outputs": [
    {
     "name": "stdout",
     "output_type": "stream",
     "text": [
      "довірчий інтервал : (0.7869051468102926, 1.7660575824988811)\n"
     ]
    }
   ],
   "source": [
    "print(f\"довірчий інтервал : ({a}, {b})\")"
   ]
  },
  {
   "cell_type": "markdown",
   "id": "4ad71c16-6ed9-4aef-a3e9-06727da018e8",
   "metadata": {},
   "source": [
    "в) Побудуйте (точний) 95 %-й лiвостороннiй довiрчий iнтервал для рiзницi\n",
    "середнiх $\\mu_X − \\mu_Y$ . Зробiть вiдповiдний висновок про ефективнiсть лiкування\n",
    "(перевiрте вiдповiдну гiпотезу)."
   ]
  },
  {
   "cell_type": "code",
   "execution_count": 126,
   "id": "75b213f0-ac81-41d5-b1ee-414a31f0985c",
   "metadata": {},
   "outputs": [],
   "source": [
    "al = 0.05"
   ]
  },
  {
   "cell_type": "code",
   "execution_count": 118,
   "id": "f9b980c4-b9a8-4ad7-89f4-02f06f7d3e75",
   "metadata": {},
   "outputs": [],
   "source": [
    "s_p_squared = (25 * np.std(before)**2 + 25 * np.std(after)**2)/(25 + 25 - 2)"
   ]
  },
  {
   "cell_type": "code",
   "execution_count": 129,
   "id": "93a0e944-c30b-4ddc-b167-08b6873f9b04",
   "metadata": {},
   "outputs": [],
   "source": [
    "m = (np.mean(after) - np.mean(before))\n",
    "b = m + ((s_p_squared/25 + s_p_squared/25)**0.5) * scipy.stats.t.ppf(1 - al, df=48)"
   ]
  },
  {
   "cell_type": "code",
   "execution_count": 130,
   "id": "4557250d-01ec-4a8a-af63-547696f7e05f",
   "metadata": {},
   "outputs": [
    {
     "name": "stdout",
     "output_type": "stream",
     "text": [
      "довірчий інтервал : (-inf, -0.9792400674024058)\n"
     ]
    }
   ],
   "source": [
    "print(f\"довірчий інтервал : ({-np.inf}, {b})\")"
   ]
  }
 ],
 "metadata": {
  "kernelspec": {
   "display_name": "Python 3 (ipykernel)",
   "language": "python",
   "name": "python3"
  },
  "language_info": {
   "codemirror_mode": {
    "name": "ipython",
    "version": 3
   },
   "file_extension": ".py",
   "mimetype": "text/x-python",
   "name": "python",
   "nbconvert_exporter": "python",
   "pygments_lexer": "ipython3",
   "version": "3.10.4"
  }
 },
 "nbformat": 4,
 "nbformat_minor": 5
}
