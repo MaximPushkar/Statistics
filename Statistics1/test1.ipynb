{
 "cells": [
  {
   "cell_type": "markdown",
   "id": "b03d604a-500b-4aad-8324-1f24c4a590a7",
   "metadata": {},
   "source": [
    "### Пушкар Максим\n",
    "##### Варіант 3"
   ]
  },
  {
   "cell_type": "markdown",
   "id": "232e98cc-fd95-4eb2-84b6-fc140d5625a4",
   "metadata": {},
   "source": [
    "1) Для вибiрки з 12 чисел, згенерованої за допомогою онлайн-генератора випадкових величин:\n",
    "\n",
    "    а) знайдiть вибiрковi середнє та дисперсiю.\n",
    "    \n",
    "    б) знайдiть значення емпiричної функцiї розподiлу в точцi 60 та побудуйте наближений 95 %-й довiрчий iнтеграл для значення iстинної функцiї розподiлу в цiй точцi."
   ]
  },
  {
   "cell_type": "code",
   "execution_count": 2,
   "id": "9651511b-1565-42c9-8cc2-c6b7079a4033",
   "metadata": {},
   "outputs": [],
   "source": [
    "import numpy as np\n",
    "from scipy.stats import norm"
   ]
  },
  {
   "cell_type": "code",
   "execution_count": 23,
   "id": "73ac3fba-011d-4e43-b481-be45d5f6ab19",
   "metadata": {},
   "outputs": [
    {
     "name": "stdout",
     "output_type": "stream",
     "text": [
      "[55.39 85.82  7.47 84.88 73.84 73.36 18.78 45.73 22.44 66.97 67.63 44.63]\n"
     ]
    }
   ],
   "source": [
    "n = 12\n",
    "x = np.round_(np.random.random(n) * 99 + 1, 2)\n",
    "print(x)"
   ]
  },
  {
   "cell_type": "code",
   "execution_count": 24,
   "id": "47b3385d-e7e0-476c-b0da-bb9460f94b57",
   "metadata": {},
   "outputs": [
    {
     "name": "stdout",
     "output_type": "stream",
     "text": [
      "mean = 53.91166666666666\n"
     ]
    }
   ],
   "source": [
    "x_mean = np.mean(x)\n",
    "print(\"mean =\", x_mean)"
   ]
  },
  {
   "cell_type": "code",
   "execution_count": 25,
   "id": "5a2aaf07-488a-4832-b7a8-851bf3a6dc77",
   "metadata": {},
   "outputs": [
    {
     "name": "stdout",
     "output_type": "stream",
     "text": [
      "variance = 637.3392472222222\n"
     ]
    }
   ],
   "source": [
    "x_var = np.var(x)\n",
    "print(\"variance =\", x_var)"
   ]
  },
  {
   "cell_type": "code",
   "execution_count": 26,
   "id": "4b88c05f-bd2f-4e92-b4fd-516cd4a9e0a9",
   "metadata": {},
   "outputs": [
    {
     "name": "stdout",
     "output_type": "stream",
     "text": [
      "empirical value = 0.5\n"
     ]
    }
   ],
   "source": [
    "emp = sum(x<60)/n\n",
    "print(\"empirical value =\", emp)"
   ]
  },
  {
   "cell_type": "code",
   "execution_count": 27,
   "id": "e7beb764-f969-48dc-a5ca-742229ea7736",
   "metadata": {},
   "outputs": [],
   "source": [
    "al = 0.05\n",
    "z = norm.ppf(1 - al/2)"
   ]
  },
  {
   "cell_type": "markdown",
   "id": "b653a03e-0042-4c1d-9e21-5b59f6e91482",
   "metadata": {},
   "source": [
    "Метод Вальда:"
   ]
  },
  {
   "cell_type": "code",
   "execution_count": 28,
   "id": "aa093ba2-80c1-48e5-9e70-90d7149c2f0b",
   "metadata": {},
   "outputs": [
    {
     "name": "stdout",
     "output_type": "stream",
     "text": [
      "сonfidence interval = (0.2171 , 0.7829)\n"
     ]
    }
   ],
   "source": [
    "teta_min = emp - z * (emp * (1 - emp) / n)**0.5\n",
    "teta_max = emp + z * (emp * (1 - emp) / n)**0.5\n",
    "print(f\"сonfidence interval = ({np.round_(teta_min, 4)} , {np.round_(teta_max, 4)})\")"
   ]
  },
  {
   "cell_type": "markdown",
   "id": "65e15616-483a-4a37-ab0f-08754d263e8c",
   "metadata": {},
   "source": [
    "Метод Вільсона:"
   ]
  },
  {
   "cell_type": "code",
   "execution_count": 29,
   "id": "59b7f952-1f33-468c-b0da-c73062640b7f",
   "metadata": {},
   "outputs": [
    {
     "name": "stdout",
     "output_type": "stream",
     "text": [
      "сonfidence interval = (0.2538 , 0.7462)\n"
     ]
    }
   ],
   "source": [
    "teta_min_1 = (n*emp + z**2/2)/(n + z**2) - z/(n + z**2) * (n * emp * (1 - emp) + z**2/4)**0.5\n",
    "teta_max_1 = (n*emp + z**2/2)/(n + z**2) + z/(n + z**2) * (n * emp * (1 - emp) + z**2/4)**0.5\n",
    "print(f\"сonfidence interval = ({np.round_(teta_min_1, 4)} , {np.round_(teta_max_1, 4)})\")"
   ]
  },
  {
   "cell_type": "markdown",
   "id": "e0568b4e-b386-4332-8151-21d719634f49",
   "metadata": {},
   "source": [
    "Решта завдань будуть в pdf."
   ]
  }
 ],
 "metadata": {
  "kernelspec": {
   "display_name": "Python 3 (ipykernel)",
   "language": "python",
   "name": "python3"
  },
  "language_info": {
   "codemirror_mode": {
    "name": "ipython",
    "version": 3
   },
   "file_extension": ".py",
   "mimetype": "text/x-python",
   "name": "python",
   "nbconvert_exporter": "python",
   "pygments_lexer": "ipython3",
   "version": "3.10.4"
  }
 },
 "nbformat": 4,
 "nbformat_minor": 5
}
