{
 "cells": [
  {
   "cell_type": "markdown",
   "id": "d07b5539-eec5-416d-936e-393dbbb13199",
   "metadata": {},
   "source": [
    "# Математична статистика. Домашнє завдання 2. \n",
    "Варiацiйний ряд, емпiрична функцiя розподiлу, вибiрковi моменти, вибiркове середнє та дисперсiя"
   ]
  },
  {
   "cell_type": "code",
   "execution_count": 139,
   "id": "54c9308f-f12e-42e4-8f40-e125959afea8",
   "metadata": {},
   "outputs": [],
   "source": [
    "import numpy as np\n",
    "from scipy.stats import norm\n",
    "import statistics as stat\n",
    "import pandas as pd\n",
    "\n",
    "import matplotlib.pyplot as plt\n",
    "plt.rcParams[\"figure.figsize\"] = (10,6)"
   ]
  },
  {
   "cell_type": "markdown",
   "id": "fa793eea-90fd-465f-b497-b0f2f2216e3a",
   "metadata": {},
   "source": [
    "### Завдання 1"
   ]
  },
  {
   "cell_type": "markdown",
   "id": "f916223c-2d08-4e8c-a35f-f2f0849ee24a",
   "metadata": {},
   "source": [
    "Для вибiрки з 25 чисел, згенерованої за допомогою онлайн-генератора випадкових чисел:"
   ]
  },
  {
   "cell_type": "code",
   "execution_count": 113,
   "id": "aae09c6a-e634-4cb3-8309-0c97f32e3018",
   "metadata": {},
   "outputs": [
    {
     "name": "stdout",
     "output_type": "stream",
     "text": [
      "[61.84 68.55 84.64 34.79  2.58 27.08 82.18 74.61 80.12 86.81 95.27 41.27\n",
      " 20.87 43.3   7.4  79.14 77.32 97.95  8.54 53.42 12.6  78.77 58.66 75.08\n",
      " 66.88]\n"
     ]
    }
   ],
   "source": [
    "n = 25\n",
    "x = np.round_(np.random.random(n) * 100, 2)\n",
    "print(x)"
   ]
  },
  {
   "cell_type": "markdown",
   "id": "1d613762-5f33-4118-a68e-b9a430ab19e7",
   "metadata": {},
   "source": [
    "a) побудуйте варiацiйний ряд i знайдiть розмах;"
   ]
  },
  {
   "cell_type": "code",
   "execution_count": 114,
   "id": "1144acff-033f-41de-a5dc-d18c536f8a4d",
   "metadata": {},
   "outputs": [
    {
     "name": "stdout",
     "output_type": "stream",
     "text": [
      "sorted = [2.58, 7.4, 8.54, 12.6, 20.87, 27.08, 34.79, 41.27, 43.3, 53.42, 58.66, 61.84, 66.88, 68.55, 74.61, 75.08, 77.32, 78.77, 79.14, 80.12, 82.18, 84.64, 86.81, 95.27, 97.95]\n",
      "\n",
      "range = 95.37\n"
     ]
    }
   ],
   "source": [
    "y = sorted(x)\n",
    "print(\"sorted =\", y)\n",
    "print()\n",
    "r = y[-1] - y[0]\n",
    "print(\"range =\", r)"
   ]
  },
  {
   "cell_type": "markdown",
   "id": "fcaa6bf0-7462-4c4f-ac21-4c66364ee7c0",
   "metadata": {},
   "source": [
    "б) знайдiть вибiркову медiану та квартилi, побудуйте дiаграму розмаху;"
   ]
  },
  {
   "cell_type": "code",
   "execution_count": 115,
   "id": "9922883a-95d3-4658-b10e-8539f298a4fd",
   "metadata": {},
   "outputs": [
    {
     "name": "stdout",
     "output_type": "stream",
     "text": [
      "median = 66.88\n",
      "quantiles = [30.935, 66.88, 79.63]\n"
     ]
    },
    {
     "data": {
      "image/png": "[encoded data removed]",
      "text/plain": [
       "<Figure size 720x432 with 1 Axes>"
      ]
     },
     "metadata": {
      "needs_background": "light"
     },
     "output_type": "display_data"
    }
   ],
   "source": [
    "m = stat.median(x)\n",
    "print(\"median =\", m)\n",
    "\n",
    "print(\"quantiles =\", stat.quantiles(x))\n",
    "\n",
    "plt.boxplot(x)\n",
    "plt.show()"
   ]
  },
  {
   "cell_type": "markdown",
   "id": "dc08e66e-82fc-4678-823f-403fac55a57a",
   "metadata": {},
   "source": [
    "в) знайдiть значення емпiричної функцiї розподiлу в точцi 30 та побудуйте\n",
    "наближений 95%-й довiрчий iнтеграл для значення iстинної функцiї розподiлу\n",
    "в цiй точцi методами Вальда та Вiлсона;"
   ]
  },
  {
   "cell_type": "code",
   "execution_count": 116,
   "id": "849965cb-faa8-48fe-baaa-4b6e7eda3ecd",
   "metadata": {},
   "outputs": [
    {
     "name": "stdout",
     "output_type": "stream",
     "text": [
      "empirical value = 0.24\n"
     ]
    }
   ],
   "source": [
    "emp = sum(x<30)/n\n",
    "print(\"empirical value =\", emp)"
   ]
  },
  {
   "cell_type": "code",
   "execution_count": 117,
   "id": "ff9b9254-d066-4c96-b944-644a84c88a1d",
   "metadata": {},
   "outputs": [],
   "source": [
    "al = 0.05\n",
    "z = norm.ppf(1 - al/2)"
   ]
  },
  {
   "cell_type": "markdown",
   "id": "a7cb3f23-8469-4cbc-b803-eec1452747a6",
   "metadata": {},
   "source": [
    "Метод Вальда:"
   ]
  },
  {
   "cell_type": "code",
   "execution_count": 118,
   "id": "e7474df9-2e8b-4f24-bdf5-01e60879391d",
   "metadata": {},
   "outputs": [
    {
     "name": "stdout",
     "output_type": "stream",
     "text": [
      "0.0726 0.4074\n"
     ]
    }
   ],
   "source": [
    "teta_min = emp - z * (emp * (1 - emp) / n)**0.5\n",
    "teta_max = emp + z * (emp * (1 - emp) / n)**0.5\n",
    "\n",
    "print(round(teta_min, 4), round(teta_max, 4))"
   ]
  },
  {
   "cell_type": "markdown",
   "id": "0be9b33c-872d-4dbb-9e1b-078059629e01",
   "metadata": {},
   "source": [
    "Метод Вільсона:"
   ]
  },
  {
   "cell_type": "code",
   "execution_count": 119,
   "id": "44ea1d78-d34f-41e5-a701-77d4c7a47443",
   "metadata": {},
   "outputs": [
    {
     "name": "stdout",
     "output_type": "stream",
     "text": [
      "0.115 0.4343\n"
     ]
    }
   ],
   "source": [
    "teta_min_1 = (n*emp + z**2/2)/(n + z**2) - z/(n + z**2) * (n * emp * (1 - emp) + z**2/4)**0.5\n",
    "teta_max_1 = (n*emp + z**2/2)/(n + z**2) + z/(n + z**2) * (n * emp * (1 - emp) + z**2/4)**0.5\n",
    "\n",
    "print(round(teta_min_1, 4), round(teta_max_1, 4))"
   ]
  },
  {
   "cell_type": "code",
   "execution_count": 129,
   "id": "6b8080d1-1803-4c45-961a-811bb6b43b38",
   "metadata": {},
   "outputs": [
    {
     "data": {
      "text/plain": [
       "<matplotlib.collections.PolyCollection at 0x1bd8c30bc10>"
      ]
     },
     "execution_count": 129,
     "metadata": {},
     "output_type": "execute_result"
    },
    {
     "data": {
      "image/png": "[encoded data removed]",
      "text/plain": [
       "<Figure size 720x432 with 1 Axes>"
      ]
     },
     "metadata": {
      "needs_background": "light"
     },
     "output_type": "display_data"
    }
   ],
   "source": [
    "def ecdf(data, r):\n",
    "    return sum(data<r)/len(data)\n",
    "\n",
    "t = np.linspace(0, 100, 500)\n",
    "y = []\n",
    "for i in t:\n",
    "    y.append(ecdf(x, i))\n",
    "y = np.array(y)\n",
    "\n",
    "plt.plot(t, y)\n",
    "plt.fill_between(np.linspace(29, 30, 2), teta_min, teta_max, color=\"red\", alpha=0.3)\n",
    "plt.fill_between(np.linspace(30, 31, 2), teta_min_1, teta_max_1, color=\"green\", alpha=0.3)"
   ]
  },
  {
   "cell_type": "markdown",
   "id": "74bf5040-fdc5-47ac-a897-f2c8c8212da4",
   "metadata": {},
   "source": [
    "г) знайдiть вибiркове середнє."
   ]
  },
  {
   "cell_type": "code",
   "execution_count": 121,
   "id": "11fb12f1-2ff4-4a13-9c75-9a5773a00764",
   "metadata": {},
   "outputs": [
    {
     "name": "stdout",
     "output_type": "stream",
     "text": [
      "mean = 56.7868\n"
     ]
    }
   ],
   "source": [
    "x_mean = np.mean(x)\n",
    "print(\"mean =\", x_mean)"
   ]
  },
  {
   "cell_type": "markdown",
   "id": "febd85d5-b6e4-4d8e-af4a-9b0d43e225b7",
   "metadata": {},
   "source": [
    "### Завдання 2"
   ]
  },
  {
   "cell_type": "markdown",
   "id": "b3b1a89a-f2e2-4cde-b07f-52756396d5f7",
   "metadata": {},
   "source": [
    "Для оцiнок студентiв iз математики (math score), взятих iз датасету Успiшнiсть студентiв:"
   ]
  },
  {
   "cell_type": "code",
   "execution_count": 208,
   "id": "68ebe5e0-9f45-4386-899c-e1ff9d3bf850",
   "metadata": {},
   "outputs": [
    {
     "name": "stdout",
     "output_type": "stream",
     "text": [
      "0      72\n",
      "1      69\n",
      "2      90\n",
      "3      47\n",
      "4      76\n",
      "       ..\n",
      "995    88\n",
      "996    62\n",
      "997    59\n",
      "998    68\n",
      "999    77\n",
      "Name: math score, Length: 1000, dtype: int64\n"
     ]
    }
   ],
   "source": [
    "df = pd.read_csv(\"StudentsPerformance.csv\")\n",
    "grades = df[\"math score\"]\n",
    "print(grades)"
   ]
  },
  {
   "cell_type": "markdown",
   "id": "b50c1eae-bfbb-430a-9845-6d7a41416a56",
   "metadata": {},
   "source": [
    "а) побудуйте емпiричну функцiю розподiлу;"
   ]
  },
  {
   "cell_type": "code",
   "execution_count": 209,
   "id": "e6a6fe06-d1ec-4997-a2cd-fba7fb9fb3a7",
   "metadata": {},
   "outputs": [
    {
     "data": {
      "text/plain": [
       "[<matplotlib.lines.Line2D at 0x1bd92f9d930>]"
      ]
     },
     "execution_count": 209,
     "metadata": {},
     "output_type": "execute_result"
    },
    {
     "data": {
      "image/png": "[encoded data removed]",
      "text/plain": [
       "<Figure size 1440x432 with 1 Axes>"
      ]
     },
     "metadata": {
      "needs_background": "light"
     },
     "output_type": "display_data"
    }
   ],
   "source": [
    "t = np.linspace(0, 100, 500)\n",
    "y = []\n",
    "for i in t:\n",
    "    y.append(ecdf(grades, i))\n",
    "y = np.array(y)\n",
    "\n",
    "plt.plot(t, y)"
   ]
  },
  {
   "cell_type": "markdown",
   "id": "0da0df71-539b-40da-9ce7-4ace4f69f94d",
   "metadata": {},
   "source": [
    "б) побудуйте гiстограму значень;"
   ]
  },
  {
   "cell_type": "code",
   "execution_count": 210,
   "id": "594f8acf-dab2-40ac-b0c8-951ca55d6cd1",
   "metadata": {},
   "outputs": [
    {
     "data": {
      "image/png": "[encoded data removed]",
      "text/plain": [
       "<Figure size 1440x432 with 1 Axes>"
      ]
     },
     "metadata": {
      "needs_background": "light"
     },
     "output_type": "display_data"
    }
   ],
   "source": [
    "plt.hist(grades, bins=25)\n",
    "plt.show()"
   ]
  },
  {
   "cell_type": "markdown",
   "id": "18a3228c-b325-41bc-a9c4-3a85e93796dd",
   "metadata": {},
   "source": [
    "в) побудуйте дiаграму розсiяння для оцiнок з математики та читання;"
   ]
  },
  {
   "cell_type": "code",
   "execution_count": 211,
   "id": "4220e717-250d-4684-8211-b31021f5927e",
   "metadata": {},
   "outputs": [
    {
     "data": {
      "text/plain": [
       "<matplotlib.collections.PathCollection at 0x1bd92f9fd90>"
      ]
     },
     "execution_count": 211,
     "metadata": {},
     "output_type": "execute_result"
    },
    {
     "data": {
      "image/png": "[encoded data removed]",
      "text/plain": [
       "<Figure size 1440x432 with 1 Axes>"
      ]
     },
     "metadata": {
      "needs_background": "light"
     },
     "output_type": "display_data"
    }
   ],
   "source": [
    "plt.scatter(grades, df[\"reading score\"], s = 20, c=\"red\")"
   ]
  },
  {
   "cell_type": "markdown",
   "id": "31f02ff1-c954-43d0-bf59-6336155f981d",
   "metadata": {},
   "source": [
    "г) знайдiть вибiрковi середнє та дисперсiю;"
   ]
  },
  {
   "cell_type": "code",
   "execution_count": 212,
   "id": "010ab95e-deec-46ba-ac23-14186c6f35a2",
   "metadata": {},
   "outputs": [
    {
     "name": "stdout",
     "output_type": "stream",
     "text": [
      "sample mean grade = 66.089\n",
      "biased sample variance = 229.68907899999996\n"
     ]
    }
   ],
   "source": [
    "grade_m = np.mean(grades)\n",
    "print(\"sample mean grade =\", grade_m)\n",
    "\n",
    "grade_v = np.var(grades)\n",
    "print(\"biased sample variance =\", grade_v)"
   ]
  },
  {
   "cell_type": "markdown",
   "id": "4de93cc8-c1c1-47e6-be0d-fd31368c2091",
   "metadata": {},
   "source": [
    "д) побудуйте наближений 95%-й довiрчий iнтервал для середньої оцiнки студентiв з математики;"
   ]
  },
  {
   "cell_type": "markdown",
   "id": "07d49454-57e7-45fa-878c-ec21f79726fb",
   "metadata": {},
   "source": [
    "Ми намагаємося знайти такі $a, b$, що\n",
    "$$P( a < \\text{grade} < b) = 0.95$$\n",
    "де $\\text{grade}$ це випадкова величина балу з математики.\n",
    "\n",
    "Маємо:\n",
    "$$ \\sqrt{n} \\frac{\\text{grade} - E[ \\text{grade} ]}{\\sqrt{Var (\\text{grade})}} \\sim N(0, 1)$$\n",
    "\n",
    "Отже:\n",
    "$$ a, b = E[ \\text{grade} ] \\pm \\frac{\\sqrt{Var (\\text{grade})}}{\\sqrt{n}} \\ \\mathcal{Z}_{1 - \\frac{\\alpha}2} $$"
   ]
  },
  {
   "cell_type": "code",
   "execution_count": 213,
   "id": "b9d3b73f-d2cd-4644-b31e-e0e1b2b0f23d",
   "metadata": {},
   "outputs": [
    {
     "data": {
      "text/plain": [
       "(65.14966984582541, 67.02833015417458)"
      ]
     },
     "execution_count": 213,
     "metadata": {},
     "output_type": "execute_result"
    }
   ],
   "source": [
    "n = len(grades)\n",
    "a = grade_m - (grade_v/n)**0.5 * z\n",
    "b = grade_m + (grade_v/n)**0.5 * z\n",
    "\n",
    "a, b"
   ]
  },
  {
   "cell_type": "markdown",
   "id": "8926983d-5ac0-4a99-81e4-9d71464a3e10",
   "metadata": {},
   "source": [
    "е) пояснiть, що означає отриманий у попередньому пунктi довiрчий iнтервал."
   ]
  },
  {
   "cell_type": "markdown",
   "id": "403f7a1f-0a7f-47b4-bf89-72bb93b96556",
   "metadata": {},
   "source": [
    "Якщо повторити процедуру вибору студентів багато разiв, то приблизно 95% побудованих iнтервалiв мiститимуть iстинне значення середньої оцінки з математики"
   ]
  },
  {
   "cell_type": "markdown",
   "id": "992b7d9c-bd10-46cb-86f6-777df9536ae1",
   "metadata": {},
   "source": [
    "### Завдання 3"
   ]
  },
  {
   "cell_type": "markdown",
   "id": "0c6ee3e8-b95c-4a0e-9e23-a84b18f9c6f6",
   "metadata": {},
   "source": [
    "a) Зробiть завдання 2 (крiм останнього пункту) окремо для студентiв, якi\n",
    "мали стандартний (standard) ланч, та для студентiв, якi мали безкоштовний або\n",
    "уцiнений ланч (free/reduced) ланч."
   ]
  },
  {
   "cell_type": "code",
   "execution_count": 214,
   "id": "33d8aa34-e62b-47a7-b1bc-4d8342f3425f",
   "metadata": {},
   "outputs": [],
   "source": [
    "standard = df[df[\"lunch\"] == \"standard\"]\n",
    "grades_standard = standard[\"math score\"]\n",
    "free = df[df[\"lunch\"] == \"free/reduced\"]\n",
    "grades_free = free[\"math score\"]"
   ]
  },
  {
   "cell_type": "code",
   "execution_count": 215,
   "id": "a456f417-d821-4ae7-a81c-d01148ec7833",
   "metadata": {},
   "outputs": [
    {
     "name": "stdout",
     "output_type": "stream",
     "text": [
      "Standard\n",
      "70.03410852713178 186.12906916651644\n",
      "( 68.98123710853935 , 71.08697994572421 )\n",
      "Free\n",
      "58.92112676056338 229.17687760365004\n",
      "( 57.346348852707955 , 60.49590466841881 )\n"
     ]
    },
    {
     "data": {
      "image/png": "[encoded data removed]",
      "text/plain": [
       "<Figure size 1440x432 with 2 Axes>"
      ]
     },
     "metadata": {
      "needs_background": "light"
     },
     "output_type": "display_data"
    },
    {
     "data": {
      "image/png": "[encoded data removed]",
      "text/plain": [
       "<Figure size 1440x432 with 2 Axes>"
      ]
     },
     "metadata": {
      "needs_background": "light"
     },
     "output_type": "display_data"
    },
    {
     "data": {
      "image/png": "[encoded data removed]",
      "text/plain": [
       "<Figure size 1440x432 with 2 Axes>"
      ]
     },
     "metadata": {
      "needs_background": "light"
     },
     "output_type": "display_data"
    }
   ],
   "source": [
    "t = np.linspace(0, 100, 500)\n",
    "y_1 = []\n",
    "y_2 = []\n",
    "for i in t:\n",
    "    y_1.append(ecdf(grades_standard, i))\n",
    "    y_2.append(ecdf(grades_free, i))\n",
    "y_1, y_2 = np.array(y_1), np.array(y_2)\n",
    "\n",
    "f, (ax1, ax2) = plt.subplots(1, 2, sharey=True)\n",
    "ax1.plot(t, y_1)\n",
    "ax2.plot(t, y_2)\n",
    "\n",
    "\n",
    "f, (ax1, ax2) = plt.subplots(1, 2, sharey=True)\n",
    "ax1.hist(grades_standard, bins=25)\n",
    "ax2.hist(grades_free, bins=25)\n",
    "\n",
    "f, (ax1, ax2) = plt.subplots(1, 2, sharey=True)\n",
    "ax1.scatter(grades_standard, standard[\"reading score\"], s = 20, c=\"red\")\n",
    "ax2.scatter(grades_free, free[\"reading score\"], s = 20, c=\"red\")\n",
    "\n",
    "grade_standard_m = np.mean(grades_standard)\n",
    "grade_standard_v = np.var(grades_standard)\n",
    "n_standard = len(grades_standard)\n",
    "print(\"Standard\")\n",
    "print(grade_standard_m, grade_standard_v)\n",
    "a_standard = grade_standard_m - (grade_standard_v/n_standard)**0.5 * z\n",
    "b_standard = grade_standard_m + (grade_standard_v/n_standard)**0.5 * z\n",
    "print(\"(\", a_standard, \",\", b_standard, \")\") \n",
    "\n",
    "grade_free_m = np.mean(grades_free)\n",
    "grade_free_v = np.var(grades_free)\n",
    "n_free = len(grades_free)\n",
    "print(\"Free\")\n",
    "print(grade_free_m, grade_free_v)\n",
    "a_free = grade_free_m - (grade_free_v/n_free)**0.5 * z\n",
    "b_free = grade_free_m + (grade_free_v/n_free)**0.5 * z\n",
    "print(\"(\", a_free, \",\", b_free, \")\") "
   ]
  },
  {
   "cell_type": "markdown",
   "id": "d63d9de8-7e75-4752-a07f-4bf4b4bc931c",
   "metadata": {},
   "source": [
    "б) Знайдiть наближений 95%-й довiрчий iнтервал для рiзницi середнiх успiшностей з математики цих двох категорiй студентiв."
   ]
  },
  {
   "cell_type": "markdown",
   "id": "55b02c22-b4d0-410e-b907-a1c67fd69af8",
   "metadata": {},
   "source": [
    "З центральної граничної теореми: \n",
    "$$\\overline{X_s} \\sim N\\left(E[X_s], \\frac{Var(X_s)}{n_s}\\right)$$\n",
    "$$\\overline{X_f} \\sim N\\left(E[X_f], \\frac{Var(X_f)}{n_f}\\right)$$\n",
    "\n",
    "За припущення незалежності $\\overline{X_s}$ та $\\overline{X_f}$:\n",
    "\n",
    "$$ \\overline{X_s} - \\overline{X_f} \\sim N\\left(E[X_s] - E[X_f], \\frac{Var(X_s)}{n_s} + \\frac{Var(X_f)}{n_f}\\right) $$\n",
    "\n",
    "Тобто \n",
    "\n",
    "$$a, b = E[X_s] - E[X_f] \\pm \\sqrt{\\frac{Var(X_s)}{n_s} + \\frac{Var(X_f)}{n_f}} \\ \\mathcal{Z}_{1 - \\frac{\\alpha}2}$$"
   ]
  },
  {
   "cell_type": "code",
   "execution_count": 216,
   "id": "84b9d5de-9e60-4120-a1e5-a62091a33a59",
   "metadata": {},
   "outputs": [
    {
     "data": {
      "text/plain": [
       "(9.218657696310522, 13.00730583682627)"
      ]
     },
     "execution_count": 216,
     "metadata": {},
     "output_type": "execute_result"
    }
   ],
   "source": [
    "a = grade_standard_m - grade_free_m - (grade_standard_v/n_standard + grade_free_v/n_free)**0.5 * z\n",
    "b = grade_standard_m - grade_free_m + (grade_standard_v/n_standard + grade_free_v/n_free)**0.5 * z\n",
    "\n",
    "a, b"
   ]
  },
  {
   "cell_type": "markdown",
   "id": "7986a037-b3fd-4a66-8537-76e71ce0f16b",
   "metadata": {},
   "source": [
    "в) З рівнем довіри 95% можна стверджувати, що різниця потрібних середніх успішностей \n",
    "належить вказаному вище інтервалу, який повністю лежить в додатній півосі. Тобто, з рівнем довіри як мінімум 95% можна стверджувати, що студенти, якi мають стандартний ланч, є в середньому бiльш\n",
    "успiшними в математицi, нiж решта."
   ]
  },
  {
   "cell_type": "markdown",
   "id": "9e91da60-93cb-436c-a7fa-bc222ae960d0",
   "metadata": {},
   "source": [
    "г) По-перше, ми записали ЦГТ у вигляді рівності, що не є абсолютно правильним, і ми використали наближення вважаючи $n_s, n_f$ великими. \n",
    "\n",
    "По-друге, ми сказали, що різниця нормально розподілених величин має нормальний розподіл, де припустили, що вони є незалежними. "
   ]
  },
  {
   "cell_type": "code",
   "execution_count": null,
   "id": "6a1171ef-7520-4779-8214-eeb5a0e6a8a9",
   "metadata": {},
   "outputs": [],
   "source": []
  }
 ],
 "metadata": {
  "kernelspec": {
   "display_name": "Python 3 (ipykernel)",
   "language": "python",
   "name": "python3"
  },
  "language_info": {
   "codemirror_mode": {
    "name": "ipython",
    "version": 3
   },
   "file_extension": ".py",
   "mimetype": "text/x-python",
   "name": "python",
   "nbconvert_exporter": "python",
   "pygments_lexer": "ipython3",
   "version": "3.10.4"
  }
 },
 "nbformat": 4,
 "nbformat_minor": 5
}
